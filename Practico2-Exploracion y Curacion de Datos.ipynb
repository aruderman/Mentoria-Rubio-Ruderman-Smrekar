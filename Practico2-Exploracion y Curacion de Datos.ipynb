{
 "cells": [
  {
   "cell_type": "markdown",
   "metadata": {
    "colab_type": "text",
    "id": "6rj5IlyYDYLD"
   },
   "source": [
    "# Análisis de calidad de servicio eléctrico\n",
    "## Aplicación de ML sobre datos georeferenciados\n",
    "\n",
    "## Mentoría: Diplomatura Ciencias de Datos, FAMAF, 2020\n",
    "\n",
    "### Práctico 2: Exploración y curación de los datos \n",
    "\n",
    "Mentor: \n",
    "\n",
    "* Ramiro Caro\n",
    "\n",
    "Integrantes: \n",
    "\n",
    "* Smrekar Sacha\n",
    "* Rubio Ariel\n",
    "* Ruderman Andrés"
   ]
  },
  {
   "cell_type": "markdown",
   "metadata": {
    "colab_type": "text",
    "id": "YoEmMUucwpu6"
   },
   "source": [
    "## Introduccion y carga de datos\n",
    "\n",
    "\n",
    "A partir de este punto, utilizaremos los transformadores de distribucion como elemento de análisis, e incorporaremos datos de consumidores, subestación y líneas de distribución."
   ]
  },
  {
   "cell_type": "code",
   "execution_count": 1,
   "metadata": {
    "colab": {},
    "colab_type": "code",
    "id": "7QiqtG-9ybT-"
   },
   "outputs": [],
   "source": [
    "import warnings\n",
    "warnings.filterwarnings('ignore')\n",
    "\n",
    "import geopandas as gpd\n",
    "import pandas as pd\n",
    "from shapely.geometry import Point, LineString, Polygon, MultiPoint, MultiLineString\n",
    "import contextily as ctx\n",
    "import seaborn as sns\n",
    "import matplotlib.pyplot as plt\n",
    "import numpy as np\n",
    "import seaborn as sns"
   ]
  },
  {
   "cell_type": "code",
   "execution_count": 2,
   "metadata": {
    "colab": {},
    "colab_type": "code",
    "id": "a-wN4MnfyTCk"
   },
   "outputs": [],
   "source": [
    "# Editar con el path correspondiente a sus datos\n",
    "data_path = './data/SULGIPE_46_2018-12-31_M10_20190611-1750.gdb'"
   ]
  },
  {
   "cell_type": "code",
   "execution_count": 3,
   "metadata": {
    "colab": {
     "base_uri": "https://localhost:8080/",
     "height": 136
    },
    "colab_type": "code",
    "id": "T1xC2lhcuRy-",
    "outputId": "0515c613-1ac1-41c2-903b-8a451f0fb6b4"
   },
   "outputs": [
    {
     "data": {
      "text/plain": [
       "((10508, 33),\n",
       " Index(['COD_ID', 'DIST', 'PAC_1', 'PAC_2', 'PAC_3', 'FAS_CON_P', 'FAS_CON_S',\n",
       "        'FAS_CON_T', 'SIT_ATIV', 'TIP_UNID', 'POS', 'ATRB_PER', 'TEN_LIN_SE',\n",
       "        'CAP_ELO', 'CAP_CHA', 'TAP', 'CONF', 'POSTO', 'POT_NOM', 'PER_FER',\n",
       "        'PER_TOT', 'DAT_CON', 'CTMT', 'UNI_TR_S', 'SUB', 'CONJ', 'MUN', 'BANC',\n",
       "        'TIP_TRAFO', 'MRT', 'DESCR', 'ARE_LOC', 'geometry'],\n",
       "       dtype='object'))"
      ]
     },
     "execution_count": 3,
     "metadata": {},
     "output_type": "execute_result"
    }
   ],
   "source": [
    "untrd = gpd.read_file(data_path, driver='FileGDB', layer='UNTRD')\n",
    "untrd.shape, untrd.columns"
   ]
  },
  {
   "cell_type": "code",
   "execution_count": 4,
   "metadata": {
    "colab": {
     "base_uri": "https://localhost:8080/",
     "height": 204
    },
    "colab_type": "code",
    "id": "F0yigp8pyWvx",
    "outputId": "e6e45e5d-6737-4fad-b67f-a9bc09272100"
   },
   "outputs": [
    {
     "data": {
      "text/plain": [
       "((17, 53),\n",
       " Index(['COD_ID', 'SUB', 'BARR_1', 'BARR_2', 'BARR_3', 'PAC_1', 'PAC_2',\n",
       "        'PAC_3', 'DIST', 'FAS_CON_P', 'FAS_CON_S', 'FAS_CON_T', 'SIT_ATIV',\n",
       "        'TIP_UNID', 'POS', 'POT_NOM', 'POT_F01', 'POT_F02', 'PER_FER',\n",
       "        'PER_TOT', 'BANC', 'DAT_CON', 'CONJ', 'MUN', 'TIP_TRAFO', 'ALOC_PERD',\n",
       "        'ENES_01', 'ENES_02', 'ENES_03', 'ENES_04', 'ENES_05', 'ENES_06',\n",
       "        'ENES_07', 'ENES_08', 'ENES_09', 'ENES_10', 'ENES_11', 'ENES_12',\n",
       "        'ENET_01', 'ENET_02', 'ENET_03', 'ENET_04', 'ENET_05', 'ENET_06',\n",
       "        'ENET_07', 'ENET_08', 'ENET_09', 'ENET_10', 'ENET_11', 'ENET_12',\n",
       "        'DESCR', 'ARE_LOC', 'geometry'],\n",
       "       dtype='object'))"
      ]
     },
     "execution_count": 4,
     "metadata": {},
     "output_type": "execute_result"
    }
   ],
   "source": [
    "untrs = gpd.read_file(data_path, driver='FileGDB', layer='UNTRS')\n",
    "untrs.shape, untrs.columns"
   ]
  },
  {
   "cell_type": "code",
   "execution_count": 5,
   "metadata": {
    "colab": {
     "base_uri": "https://localhost:8080/",
     "height": 187
    },
    "colab_type": "code",
    "id": "neS4sBkdzboc",
    "outputId": "501b300d-58e6-4d85-9ab7-32b23ac79190"
   },
   "outputs": [
    {
     "data": {
      "text/plain": [
       "((82760, 24),\n",
       " Index(['COD_ID', 'PN_CON_1', 'PN_CON_2', 'CTMT', 'UNI_TR_S', 'SUB', 'CONJ',\n",
       "        'DIST', 'PAC_1', 'PAC_2', 'FAS_CON', 'TIP_CND', 'POS', 'ODI_FAS',\n",
       "        'TI_FAS', 'ODI_NEU', 'TI_NEU', 'COMP', 'DESCR', 'SITCONTFAS',\n",
       "        'SITCONTNEU', 'ARE_LOC', 'Shape_Length', 'geometry'],\n",
       "       dtype='object'))"
      ]
     },
     "execution_count": 5,
     "metadata": {},
     "output_type": "execute_result"
    }
   ],
   "source": [
    "ssmt = gpd.read_file(data_path, driver='FileGDB', layer='SSDMT')\n",
    "ssmt.shape, ssmt.columns"
   ]
  },
  {
   "cell_type": "code",
   "execution_count": 6,
   "metadata": {
    "colab": {
     "base_uri": "https://localhost:8080/",
     "height": 289
    },
    "colab_type": "code",
    "id": "Sp2Ewh9L0cke",
    "outputId": "4ce1ee12-69fe-4677-b2c8-4df0b9db732b"
   },
   "outputs": [
    {
     "data": {
      "text/plain": [
       "((82, 40),\n",
       " Index(['COD_ID', 'DIST', 'GEOM_CAB', 'FORM_CAB', 'MAT_FAS_1', 'MAT_FAS_2',\n",
       "        'MAT_FAS_3', 'MAT_NEU', 'ISO_FAS_1', 'ISO_FAS_2', 'ISO_FAS_3',\n",
       "        'ISO_NEU', 'CND_FAS', 'R1', 'X1', 'FTRCNV', 'CNOM', 'CMAX', 'CM_FAS',\n",
       "        'TUC_FAS', 'A1_FAS', 'A2_FAS', 'A3_FAS', 'A4_FAS', 'A5_FAS', 'A6_FAS',\n",
       "        'CM_NEU', 'TUC_NEU', 'A1_NEU', 'A2_NEU', 'A3_NEU', 'A4_NEU', 'A5_NEU',\n",
       "        'A6_NEU', 'DESCR', 'BIT_FAS_1', 'BIT_FAS_2', 'BIT_FAS_3', 'BIT_NEU',\n",
       "        'geometry'],\n",
       "       dtype='object'))"
      ]
     },
     "execution_count": 6,
     "metadata": {},
     "output_type": "execute_result"
    }
   ],
   "source": [
    "segcon = gpd.read_file(data_path, driver='FileGDB', layer='SEGCON')\n",
    "segcon.shape, segcon.columns"
   ]
  },
  {
   "cell_type": "code",
   "execution_count": 7,
   "metadata": {
    "colab": {
     "base_uri": "https://localhost:8080/",
     "height": 255
    },
    "colab_type": "code",
    "id": "KacEd34JzdO4",
    "outputId": "7ee4cc05-3912-4d07-e3b0-52f433974dab"
   },
   "outputs": [
    {
     "data": {
      "text/plain": [
       "((148801, 40),\n",
       " Index(['DIST', 'PAC', 'PN_CON', 'UNI_TR_D', 'CTMT', 'UNI_TR_S', 'SUB', 'CONJ',\n",
       "        'MUN', 'BRR', 'CEP', 'CLAS_SUB', 'CNAE', 'TIP_CC', 'FAS_CON', 'GRU_TEN',\n",
       "        'TEN_FORN', 'GRU_TAR', 'SIT_ATIV', 'DAT_CON', 'CAR_INST', 'LIV',\n",
       "        'ENE_01', 'ENE_02', 'ENE_03', 'ENE_04', 'ENE_05', 'ENE_06', 'ENE_07',\n",
       "        'ENE_08', 'ENE_09', 'ENE_10', 'ENE_11', 'ENE_12', 'DIC', 'FIC',\n",
       "        'SEMRED', 'DESCR', 'ARE_LOC', 'geometry'],\n",
       "       dtype='object'))"
      ]
     },
     "execution_count": 7,
     "metadata": {},
     "output_type": "execute_result"
    }
   ],
   "source": [
    "ucbt = gpd.read_file(data_path, driver='FileGDB', layer='UCBT')\n",
    "ucbt.shape, ucbt.columns"
   ]
  },
  {
   "cell_type": "markdown",
   "metadata": {
    "colab_type": "text",
    "id": "pa-bOWcEhua5"
   },
   "source": [
    "## Informacion sobre consumindores\n",
    "\n",
    "1 - En base a los resultados obtenidos en el practico 1. Defina que informacion sobre consumidores, es la mas relevante para la estimacion de calidad de servicio.\n",
    "\n",
    "2 - Realize el tratamiento de las filas con valores inválidos y outliers, y luego agrupe los datos en base a la variable UNI_TF_D.\n",
    "\n",
    "3 - Justifique los métodos utilizados para agrupar las variables numéricas y categóricas."
   ]
  },
  {
   "cell_type": "markdown",
   "metadata": {},
   "source": [
    "Como variable de salida decidimos utilizar FIC, la frecuencia de corte. Esta decisión fue tomada debido a que en principio una mayor frecuencia de corte puede provicar un mayor perjuicio económico al dañar electrodomésticos y equipamiento. Por otro lado a mayor frecuencia de corte más horas de corte, o sea que las variables están correlacionadas. También son relevantes las variables de consumo ENE_XX. SIT_ATIV es el estado de la conexión y la conservamos como variable categórica. ARE_LOC es la ubicación urbana o rural por lo que la conservamos. GRU_TAR son los grupos tarifarios y la conservamos. FAS_CON no sabemos pero la conservamos por las dudas. CNAE es el código de actividad comercial y la conservamos. CLAS_SUB es la clase y sub clase tarifaria y la conservamos. MUN es el municipio del cliente y las conservamos."
   ]
  },
  {
   "cell_type": "markdown",
   "metadata": {},
   "source": [
    "Reemplazamos todos los valores negativos en los consumos por 0:"
   ]
  },
  {
   "cell_type": "code",
   "execution_count": 8,
   "metadata": {},
   "outputs": [],
   "source": [
    "ENE = ['ENE_01', 'ENE_02', 'ENE_03', 'ENE_04', 'ENE_05', 'ENE_06', 'ENE_07','ENE_08', 'ENE_09', 'ENE_10', 'ENE_11', 'ENE_12']\n",
    "\n",
    "ucbt_pos = ucbt\n",
    "\n",
    "num = ucbt_pos[ENE]._get_numeric_data()\n",
    "num[num < 0] = 0\n",
    "ucbt_pos[ENE] = num"
   ]
  },
  {
   "cell_type": "markdown",
   "metadata": {},
   "source": [
    "Eliminamos outliers que estén a más de 2,5 sigmas de la media:"
   ]
  },
  {
   "cell_type": "code",
   "execution_count": 9,
   "metadata": {},
   "outputs": [],
   "source": [
    "for nene in ENE:\n",
    "    outliers = (np.abs(ucbt_pos[nene] - ucbt_pos[nene].mean()) <= (2.5 * ucbt_pos[nene].std()))\n",
    "    ucbt_pos = ucbt_pos[outliers]"
   ]
  },
  {
   "cell_type": "markdown",
   "metadata": {},
   "source": [
    "Definimos las columnas y los datos:"
   ]
  },
  {
   "cell_type": "code",
   "execution_count": 10,
   "metadata": {},
   "outputs": [],
   "source": [
    "group = ucbt_pos.groupby(['UNI_TR_D'])\n",
    "inter = ENE+['FIC']\n",
    "mean = group[inter].mean()\n",
    "std = group[inter].std()\n",
    "qua25 = group[inter].quantile(.25)\n",
    "qua50 = group[inter].quantile(.50)\n",
    "qua75 = group[inter].quantile(.75)\n",
    "gmin = group[inter].min()\n",
    "gmax = group[inter].max()"
   ]
  },
  {
   "cell_type": "code",
   "execution_count": 11,
   "metadata": {},
   "outputs": [],
   "source": [
    "for ne in inter:\n",
    "    mean = mean.rename(columns={ne:ne+'_media'})\n",
    "    std = std.rename(columns={ne:ne+'_std'})\n",
    "    qua25 = qua25.rename(columns={ne:ne+'_qua25'})\n",
    "    qua50 = qua50.rename(columns={ne:ne+'_qua50'})\n",
    "    qua75 = qua75.rename(columns={ne:ne+'_qua75'})\n",
    "    gmin = gmin.rename(columns={ne:ne+'_min'})\n",
    "    gmax = gmax.rename(columns={ne:ne+'_max'})"
   ]
  },
  {
   "cell_type": "markdown",
   "metadata": {},
   "source": [
    "Renombramos la columna \"COD_ID\" a \"UNI_TR_D\", para que ambos dataframes tengan la misma columna clave, y luego utilizamos merge para unir ambos dataframes, utilizando de referencia la columna \"UNI_TR_D\"."
   ]
  },
  {
   "cell_type": "code",
   "execution_count": 12,
   "metadata": {},
   "outputs": [],
   "source": [
    "#Se puede hacer mejor, pero estamos cansados\n",
    "\n",
    "untrd = untrd.rename(columns={'COD_ID':'UNI_TR_D'})\n",
    "\n",
    "untrd = pd.merge(untrd, mean, on='UNI_TR_D', how = 'outer')\n",
    "untrd = pd.merge(untrd, std, on='UNI_TR_D', how = 'outer')\n",
    "untrd = pd.merge(untrd, qua25, on='UNI_TR_D', how = 'outer')\n",
    "untrd = pd.merge(untrd, qua50, on='UNI_TR_D', how = 'outer')\n",
    "untrd = pd.merge(untrd, qua75, on='UNI_TR_D', how = 'outer')\n",
    "untrd = pd.merge(untrd, gmin, on='UNI_TR_D', how = 'outer')\n",
    "untrd = pd.merge(untrd, gmax, on='UNI_TR_D', how = 'outer')"
   ]
  },
  {
   "cell_type": "code",
   "execution_count": 13,
   "metadata": {},
   "outputs": [
    {
     "data": {
      "text/plain": [
       "(10508, 124)"
      ]
     },
     "execution_count": 13,
     "metadata": {},
     "output_type": "execute_result"
    }
   ],
   "source": [
    "untrd.shape"
   ]
  },
  {
   "cell_type": "markdown",
   "metadata": {},
   "source": [
    "Agregamos para cada untrd el valor más repetido (entre los clientes) de cada variable categórica seleccionada"
   ]
  },
  {
   "cell_type": "code",
   "execution_count": 14,
   "metadata": {},
   "outputs": [],
   "source": [
    "categorias = ['ARE_LOC', 'GRU_TAR', 'CLAS_SUB', 'CNAE']\n",
    "aver=[]\n",
    "\n",
    "for cat in categorias:\n",
    "    variable = group[cat].agg(pd.Series.mode).to_frame()\n",
    "    variable = variable.rename(columns={cat:cat+'_moda'})\n",
    "    aver.append(variable)\n",
    "    untrd = pd.merge(untrd, variable, on='UNI_TR_D', how = 'outer')\n",
    "\n",
    "untrd = untrd.rename(columns={'UNI_TR_D':'COD_ID'})"
   ]
  },
  {
   "cell_type": "code",
   "execution_count": 15,
   "metadata": {},
   "outputs": [
    {
     "data": {
      "text/html": [
       "<div>\n",
       "<style scoped>\n",
       "    .dataframe tbody tr th:only-of-type {\n",
       "        vertical-align: middle;\n",
       "    }\n",
       "\n",
       "    .dataframe tbody tr th {\n",
       "        vertical-align: top;\n",
       "    }\n",
       "\n",
       "    .dataframe thead th {\n",
       "        text-align: right;\n",
       "    }\n",
       "</style>\n",
       "<table border=\"1\" class=\"dataframe\">\n",
       "  <thead>\n",
       "    <tr style=\"text-align: right;\">\n",
       "      <th></th>\n",
       "      <th>count</th>\n",
       "      <th>unique</th>\n",
       "      <th>top</th>\n",
       "      <th>freq</th>\n",
       "    </tr>\n",
       "  </thead>\n",
       "  <tbody>\n",
       "    <tr>\n",
       "      <th>COD_ID</th>\n",
       "      <td>10508</td>\n",
       "      <td>10508</td>\n",
       "      <td>11_1111316</td>\n",
       "      <td>1</td>\n",
       "    </tr>\n",
       "    <tr>\n",
       "      <th>PAC_1</th>\n",
       "      <td>10508</td>\n",
       "      <td>10508</td>\n",
       "      <td>232551</td>\n",
       "      <td>1</td>\n",
       "    </tr>\n",
       "    <tr>\n",
       "      <th>PAC_2</th>\n",
       "      <td>10508</td>\n",
       "      <td>10508</td>\n",
       "      <td>ET11_1110861</td>\n",
       "      <td>1</td>\n",
       "    </tr>\n",
       "    <tr>\n",
       "      <th>PAC_3</th>\n",
       "      <td>10508</td>\n",
       "      <td>6758</td>\n",
       "      <td>0</td>\n",
       "      <td>3751</td>\n",
       "    </tr>\n",
       "    <tr>\n",
       "      <th>FAS_CON_P</th>\n",
       "      <td>10508</td>\n",
       "      <td>4</td>\n",
       "      <td>AB</td>\n",
       "      <td>6727</td>\n",
       "    </tr>\n",
       "    <tr>\n",
       "      <th>FAS_CON_S</th>\n",
       "      <td>10508</td>\n",
       "      <td>3</td>\n",
       "      <td>AN</td>\n",
       "      <td>6757</td>\n",
       "    </tr>\n",
       "    <tr>\n",
       "      <th>FAS_CON_T</th>\n",
       "      <td>10508</td>\n",
       "      <td>2</td>\n",
       "      <td>BN</td>\n",
       "      <td>6757</td>\n",
       "    </tr>\n",
       "    <tr>\n",
       "      <th>SIT_ATIV</th>\n",
       "      <td>10508</td>\n",
       "      <td>2</td>\n",
       "      <td>AT</td>\n",
       "      <td>10243</td>\n",
       "    </tr>\n",
       "    <tr>\n",
       "      <th>TIP_UNID</th>\n",
       "      <td>10508</td>\n",
       "      <td>1</td>\n",
       "      <td>38</td>\n",
       "      <td>10508</td>\n",
       "    </tr>\n",
       "    <tr>\n",
       "      <th>POS</th>\n",
       "      <td>10508</td>\n",
       "      <td>3</td>\n",
       "      <td>PD</td>\n",
       "      <td>10054</td>\n",
       "    </tr>\n",
       "    <tr>\n",
       "      <th>CAP_ELO</th>\n",
       "      <td>10508</td>\n",
       "      <td>10</td>\n",
       "      <td>05H</td>\n",
       "      <td>6802</td>\n",
       "    </tr>\n",
       "    <tr>\n",
       "      <th>CAP_CHA</th>\n",
       "      <td>10508</td>\n",
       "      <td>4</td>\n",
       "      <td>1</td>\n",
       "      <td>10485</td>\n",
       "    </tr>\n",
       "    <tr>\n",
       "      <th>CONF</th>\n",
       "      <td>10508</td>\n",
       "      <td>2</td>\n",
       "      <td>RA</td>\n",
       "      <td>10507</td>\n",
       "    </tr>\n",
       "    <tr>\n",
       "      <th>POSTO</th>\n",
       "      <td>10508</td>\n",
       "      <td>1</td>\n",
       "      <td>PT</td>\n",
       "      <td>10508</td>\n",
       "    </tr>\n",
       "    <tr>\n",
       "      <th>DAT_CON</th>\n",
       "      <td>10508</td>\n",
       "      <td>1102</td>\n",
       "      <td>30/09/2010</td>\n",
       "      <td>2665</td>\n",
       "    </tr>\n",
       "    <tr>\n",
       "      <th>CTMT</th>\n",
       "      <td>10508</td>\n",
       "      <td>26</td>\n",
       "      <td>1_SESAQ_1</td>\n",
       "      <td>956</td>\n",
       "    </tr>\n",
       "    <tr>\n",
       "      <th>UNI_TR_S</th>\n",
       "      <td>10508</td>\n",
       "      <td>7</td>\n",
       "      <td>2_SETMG_1</td>\n",
       "      <td>2331</td>\n",
       "    </tr>\n",
       "    <tr>\n",
       "      <th>SUB</th>\n",
       "      <td>10508</td>\n",
       "      <td>8</td>\n",
       "      <td>SETMG</td>\n",
       "      <td>2331</td>\n",
       "    </tr>\n",
       "    <tr>\n",
       "      <th>MUN</th>\n",
       "      <td>10508</td>\n",
       "      <td>14</td>\n",
       "      <td>2802106</td>\n",
       "      <td>1672</td>\n",
       "    </tr>\n",
       "    <tr>\n",
       "      <th>TIP_TRAFO</th>\n",
       "      <td>10508</td>\n",
       "      <td>2</td>\n",
       "      <td>MT</td>\n",
       "      <td>6757</td>\n",
       "    </tr>\n",
       "    <tr>\n",
       "      <th>DESCR</th>\n",
       "      <td>10508</td>\n",
       "      <td>1</td>\n",
       "      <td></td>\n",
       "      <td>10508</td>\n",
       "    </tr>\n",
       "    <tr>\n",
       "      <th>ARE_LOC</th>\n",
       "      <td>10508</td>\n",
       "      <td>2</td>\n",
       "      <td>NU</td>\n",
       "      <td>8717</td>\n",
       "    </tr>\n",
       "    <tr>\n",
       "      <th>ARE_LOC_moda</th>\n",
       "      <td>8258</td>\n",
       "      <td>6</td>\n",
       "      <td>NU</td>\n",
       "      <td>6822</td>\n",
       "    </tr>\n",
       "    <tr>\n",
       "      <th>GRU_TAR_moda</th>\n",
       "      <td>8258</td>\n",
       "      <td>328</td>\n",
       "      <td>B1</td>\n",
       "      <td>6750</td>\n",
       "    </tr>\n",
       "    <tr>\n",
       "      <th>CLAS_SUB_moda</th>\n",
       "      <td>8258</td>\n",
       "      <td>689</td>\n",
       "      <td>RE1</td>\n",
       "      <td>6016</td>\n",
       "    </tr>\n",
       "    <tr>\n",
       "      <th>CNAE_moda</th>\n",
       "      <td>8258</td>\n",
       "      <td>36</td>\n",
       "      <td>0</td>\n",
       "      <td>8209</td>\n",
       "    </tr>\n",
       "  </tbody>\n",
       "</table>\n",
       "</div>"
      ],
      "text/plain": [
       "               count unique           top   freq\n",
       "COD_ID         10508  10508    11_1111316      1\n",
       "PAC_1          10508  10508        232551      1\n",
       "PAC_2          10508  10508  ET11_1110861      1\n",
       "PAC_3          10508   6758             0   3751\n",
       "FAS_CON_P      10508      4            AB   6727\n",
       "FAS_CON_S      10508      3            AN   6757\n",
       "FAS_CON_T      10508      2            BN   6757\n",
       "SIT_ATIV       10508      2            AT  10243\n",
       "TIP_UNID       10508      1            38  10508\n",
       "POS            10508      3            PD  10054\n",
       "CAP_ELO        10508     10           05H   6802\n",
       "CAP_CHA        10508      4             1  10485\n",
       "CONF           10508      2            RA  10507\n",
       "POSTO          10508      1            PT  10508\n",
       "DAT_CON        10508   1102    30/09/2010   2665\n",
       "CTMT           10508     26     1_SESAQ_1    956\n",
       "UNI_TR_S       10508      7     2_SETMG_1   2331\n",
       "SUB            10508      8         SETMG   2331\n",
       "MUN            10508     14       2802106   1672\n",
       "TIP_TRAFO      10508      2            MT   6757\n",
       "DESCR          10508      1                10508\n",
       "ARE_LOC        10508      2            NU   8717\n",
       "ARE_LOC_moda    8258      6            NU   6822\n",
       "GRU_TAR_moda    8258    328            B1   6750\n",
       "CLAS_SUB_moda   8258    689           RE1   6016\n",
       "CNAE_moda       8258     36             0   8209"
      ]
     },
     "execution_count": 15,
     "metadata": {},
     "output_type": "execute_result"
    }
   ],
   "source": [
    "untrd.describe(include='O').T"
   ]
  },
  {
   "cell_type": "code",
   "execution_count": 16,
   "metadata": {},
   "outputs": [
    {
     "data": {
      "text/plain": [
       "(10508, 128)"
      ]
     },
     "execution_count": 16,
     "metadata": {},
     "output_type": "execute_result"
    }
   ],
   "source": [
    "untrd.shape"
   ]
  },
  {
   "cell_type": "markdown",
   "metadata": {
    "colab_type": "text",
    "id": "L9pgI86JjO8v"
   },
   "source": [
    "## Informacion sobre subestacion\n",
    "\n",
    "4 - Analise la informacion disponible sobre los transformadores de segmentacion (UNI_TR_S > UNTRS)\n",
    "\n",
    "5 - Seleccione las variables relevantes, realize tratamiento de valores invalidos y outliers correspondientes. Agrupe los valores por UNTRD y agregue al dataset."
   ]
  },
  {
   "cell_type": "code",
   "execution_count": 17,
   "metadata": {},
   "outputs": [
    {
     "data": {
      "text/html": [
       "<div>\n",
       "<style scoped>\n",
       "    .dataframe tbody tr th:only-of-type {\n",
       "        vertical-align: middle;\n",
       "    }\n",
       "\n",
       "    .dataframe tbody tr th {\n",
       "        vertical-align: top;\n",
       "    }\n",
       "\n",
       "    .dataframe thead th {\n",
       "        text-align: right;\n",
       "    }\n",
       "</style>\n",
       "<table border=\"1\" class=\"dataframe\">\n",
       "  <thead>\n",
       "    <tr style=\"text-align: right;\">\n",
       "      <th></th>\n",
       "      <th>count</th>\n",
       "      <th>mean</th>\n",
       "      <th>std</th>\n",
       "      <th>min</th>\n",
       "      <th>25%</th>\n",
       "      <th>50%</th>\n",
       "      <th>75%</th>\n",
       "      <th>max</th>\n",
       "    </tr>\n",
       "  </thead>\n",
       "  <tbody>\n",
       "    <tr>\n",
       "      <th>DIST</th>\n",
       "      <td>17.0</td>\n",
       "      <td>4.600000e+01</td>\n",
       "      <td>0.000000e+00</td>\n",
       "      <td>46.00</td>\n",
       "      <td>46.00</td>\n",
       "      <td>46.00</td>\n",
       "      <td>46.00</td>\n",
       "      <td>46.00</td>\n",
       "    </tr>\n",
       "    <tr>\n",
       "      <th>POT_NOM</th>\n",
       "      <td>17.0</td>\n",
       "      <td>6.764706e+00</td>\n",
       "      <td>3.509441e+00</td>\n",
       "      <td>5.00</td>\n",
       "      <td>5.00</td>\n",
       "      <td>5.00</td>\n",
       "      <td>5.00</td>\n",
       "      <td>15.00</td>\n",
       "    </tr>\n",
       "    <tr>\n",
       "      <th>POT_F01</th>\n",
       "      <td>17.0</td>\n",
       "      <td>0.000000e+00</td>\n",
       "      <td>0.000000e+00</td>\n",
       "      <td>0.00</td>\n",
       "      <td>0.00</td>\n",
       "      <td>0.00</td>\n",
       "      <td>0.00</td>\n",
       "      <td>0.00</td>\n",
       "    </tr>\n",
       "    <tr>\n",
       "      <th>POT_F02</th>\n",
       "      <td>17.0</td>\n",
       "      <td>0.000000e+00</td>\n",
       "      <td>0.000000e+00</td>\n",
       "      <td>0.00</td>\n",
       "      <td>0.00</td>\n",
       "      <td>0.00</td>\n",
       "      <td>0.00</td>\n",
       "      <td>0.00</td>\n",
       "    </tr>\n",
       "    <tr>\n",
       "      <th>PER_FER</th>\n",
       "      <td>17.0</td>\n",
       "      <td>1.317647e-01</td>\n",
       "      <td>8.240413e-02</td>\n",
       "      <td>0.10</td>\n",
       "      <td>0.10</td>\n",
       "      <td>0.10</td>\n",
       "      <td>0.10</td>\n",
       "      <td>0.35</td>\n",
       "    </tr>\n",
       "    <tr>\n",
       "      <th>PER_TOT</th>\n",
       "      <td>17.0</td>\n",
       "      <td>6.088235e-01</td>\n",
       "      <td>1.759575e-01</td>\n",
       "      <td>0.53</td>\n",
       "      <td>0.53</td>\n",
       "      <td>0.53</td>\n",
       "      <td>0.53</td>\n",
       "      <td>1.06</td>\n",
       "    </tr>\n",
       "    <tr>\n",
       "      <th>BANC</th>\n",
       "      <td>17.0</td>\n",
       "      <td>0.000000e+00</td>\n",
       "      <td>0.000000e+00</td>\n",
       "      <td>0.00</td>\n",
       "      <td>0.00</td>\n",
       "      <td>0.00</td>\n",
       "      <td>0.00</td>\n",
       "      <td>0.00</td>\n",
       "    </tr>\n",
       "    <tr>\n",
       "      <th>CONJ</th>\n",
       "      <td>17.0</td>\n",
       "      <td>1.408453e+04</td>\n",
       "      <td>1.473629e+03</td>\n",
       "      <td>12730.00</td>\n",
       "      <td>12737.00</td>\n",
       "      <td>12743.00</td>\n",
       "      <td>15601.00</td>\n",
       "      <td>15602.00</td>\n",
       "    </tr>\n",
       "    <tr>\n",
       "      <th>ENES_01</th>\n",
       "      <td>17.0</td>\n",
       "      <td>1.397955e+07</td>\n",
       "      <td>4.635029e+06</td>\n",
       "      <td>10410053.00</td>\n",
       "      <td>11601402.00</td>\n",
       "      <td>12908106.00</td>\n",
       "      <td>13520222.00</td>\n",
       "      <td>25892236.00</td>\n",
       "    </tr>\n",
       "    <tr>\n",
       "      <th>ENES_02</th>\n",
       "      <td>17.0</td>\n",
       "      <td>1.426265e+07</td>\n",
       "      <td>4.650536e+06</td>\n",
       "      <td>10675065.00</td>\n",
       "      <td>11658176.00</td>\n",
       "      <td>13400448.00</td>\n",
       "      <td>13885480.00</td>\n",
       "      <td>26171614.00</td>\n",
       "    </tr>\n",
       "    <tr>\n",
       "      <th>ENES_03</th>\n",
       "      <td>17.0</td>\n",
       "      <td>1.375668e+07</td>\n",
       "      <td>4.663535e+06</td>\n",
       "      <td>9629278.00</td>\n",
       "      <td>11777406.00</td>\n",
       "      <td>12944612.00</td>\n",
       "      <td>13310184.00</td>\n",
       "      <td>25623588.00</td>\n",
       "    </tr>\n",
       "    <tr>\n",
       "      <th>ENES_04</th>\n",
       "      <td>17.0</td>\n",
       "      <td>1.376934e+07</td>\n",
       "      <td>4.573857e+06</td>\n",
       "      <td>9519481.00</td>\n",
       "      <td>11524840.00</td>\n",
       "      <td>12976988.00</td>\n",
       "      <td>13732300.00</td>\n",
       "      <td>25241526.00</td>\n",
       "    </tr>\n",
       "    <tr>\n",
       "      <th>ENES_05</th>\n",
       "      <td>17.0</td>\n",
       "      <td>1.327543e+07</td>\n",
       "      <td>4.293380e+06</td>\n",
       "      <td>8886469.00</td>\n",
       "      <td>11272458.00</td>\n",
       "      <td>12695126.00</td>\n",
       "      <td>13275176.00</td>\n",
       "      <td>23860178.00</td>\n",
       "    </tr>\n",
       "    <tr>\n",
       "      <th>ENES_06</th>\n",
       "      <td>17.0</td>\n",
       "      <td>1.263924e+07</td>\n",
       "      <td>4.266424e+06</td>\n",
       "      <td>8563985.00</td>\n",
       "      <td>10644496.00</td>\n",
       "      <td>12055354.00</td>\n",
       "      <td>12499754.00</td>\n",
       "      <td>23318148.00</td>\n",
       "    </tr>\n",
       "    <tr>\n",
       "      <th>ENES_07</th>\n",
       "      <td>17.0</td>\n",
       "      <td>1.193864e+07</td>\n",
       "      <td>3.953117e+06</td>\n",
       "      <td>7908330.00</td>\n",
       "      <td>10309996.00</td>\n",
       "      <td>11296270.00</td>\n",
       "      <td>11890812.00</td>\n",
       "      <td>21736636.00</td>\n",
       "    </tr>\n",
       "    <tr>\n",
       "      <th>ENES_08</th>\n",
       "      <td>17.0</td>\n",
       "      <td>1.264478e+07</td>\n",
       "      <td>4.088859e+06</td>\n",
       "      <td>8312732.00</td>\n",
       "      <td>10780708.00</td>\n",
       "      <td>12211838.00</td>\n",
       "      <td>12919734.00</td>\n",
       "      <td>22637354.00</td>\n",
       "    </tr>\n",
       "    <tr>\n",
       "      <th>ENES_09</th>\n",
       "      <td>17.0</td>\n",
       "      <td>1.284729e+07</td>\n",
       "      <td>4.247485e+06</td>\n",
       "      <td>8856697.00</td>\n",
       "      <td>11136068.00</td>\n",
       "      <td>11518296.00</td>\n",
       "      <td>12848866.00</td>\n",
       "      <td>23495890.00</td>\n",
       "    </tr>\n",
       "    <tr>\n",
       "      <th>ENES_10</th>\n",
       "      <td>17.0</td>\n",
       "      <td>1.292396e+07</td>\n",
       "      <td>4.084775e+06</td>\n",
       "      <td>8965352.00</td>\n",
       "      <td>11253190.00</td>\n",
       "      <td>12361118.00</td>\n",
       "      <td>12691834.00</td>\n",
       "      <td>23170234.00</td>\n",
       "    </tr>\n",
       "    <tr>\n",
       "      <th>ENES_11</th>\n",
       "      <td>17.0</td>\n",
       "      <td>1.403205e+07</td>\n",
       "      <td>4.332750e+06</td>\n",
       "      <td>9627315.00</td>\n",
       "      <td>12102974.00</td>\n",
       "      <td>13425248.00</td>\n",
       "      <td>13943276.00</td>\n",
       "      <td>24751778.00</td>\n",
       "    </tr>\n",
       "    <tr>\n",
       "      <th>ENES_12</th>\n",
       "      <td>17.0</td>\n",
       "      <td>1.317444e+07</td>\n",
       "      <td>4.135390e+06</td>\n",
       "      <td>9212908.00</td>\n",
       "      <td>11545548.00</td>\n",
       "      <td>12436300.00</td>\n",
       "      <td>13033788.00</td>\n",
       "      <td>23572646.00</td>\n",
       "    </tr>\n",
       "    <tr>\n",
       "      <th>ENET_01</th>\n",
       "      <td>17.0</td>\n",
       "      <td>0.000000e+00</td>\n",
       "      <td>0.000000e+00</td>\n",
       "      <td>0.00</td>\n",
       "      <td>0.00</td>\n",
       "      <td>0.00</td>\n",
       "      <td>0.00</td>\n",
       "      <td>0.00</td>\n",
       "    </tr>\n",
       "    <tr>\n",
       "      <th>ENET_02</th>\n",
       "      <td>17.0</td>\n",
       "      <td>0.000000e+00</td>\n",
       "      <td>0.000000e+00</td>\n",
       "      <td>0.00</td>\n",
       "      <td>0.00</td>\n",
       "      <td>0.00</td>\n",
       "      <td>0.00</td>\n",
       "      <td>0.00</td>\n",
       "    </tr>\n",
       "    <tr>\n",
       "      <th>ENET_03</th>\n",
       "      <td>17.0</td>\n",
       "      <td>0.000000e+00</td>\n",
       "      <td>0.000000e+00</td>\n",
       "      <td>0.00</td>\n",
       "      <td>0.00</td>\n",
       "      <td>0.00</td>\n",
       "      <td>0.00</td>\n",
       "      <td>0.00</td>\n",
       "    </tr>\n",
       "    <tr>\n",
       "      <th>ENET_04</th>\n",
       "      <td>17.0</td>\n",
       "      <td>0.000000e+00</td>\n",
       "      <td>0.000000e+00</td>\n",
       "      <td>0.00</td>\n",
       "      <td>0.00</td>\n",
       "      <td>0.00</td>\n",
       "      <td>0.00</td>\n",
       "      <td>0.00</td>\n",
       "    </tr>\n",
       "    <tr>\n",
       "      <th>ENET_05</th>\n",
       "      <td>17.0</td>\n",
       "      <td>0.000000e+00</td>\n",
       "      <td>0.000000e+00</td>\n",
       "      <td>0.00</td>\n",
       "      <td>0.00</td>\n",
       "      <td>0.00</td>\n",
       "      <td>0.00</td>\n",
       "      <td>0.00</td>\n",
       "    </tr>\n",
       "    <tr>\n",
       "      <th>ENET_06</th>\n",
       "      <td>17.0</td>\n",
       "      <td>0.000000e+00</td>\n",
       "      <td>0.000000e+00</td>\n",
       "      <td>0.00</td>\n",
       "      <td>0.00</td>\n",
       "      <td>0.00</td>\n",
       "      <td>0.00</td>\n",
       "      <td>0.00</td>\n",
       "    </tr>\n",
       "    <tr>\n",
       "      <th>ENET_07</th>\n",
       "      <td>17.0</td>\n",
       "      <td>0.000000e+00</td>\n",
       "      <td>0.000000e+00</td>\n",
       "      <td>0.00</td>\n",
       "      <td>0.00</td>\n",
       "      <td>0.00</td>\n",
       "      <td>0.00</td>\n",
       "      <td>0.00</td>\n",
       "    </tr>\n",
       "    <tr>\n",
       "      <th>ENET_08</th>\n",
       "      <td>17.0</td>\n",
       "      <td>0.000000e+00</td>\n",
       "      <td>0.000000e+00</td>\n",
       "      <td>0.00</td>\n",
       "      <td>0.00</td>\n",
       "      <td>0.00</td>\n",
       "      <td>0.00</td>\n",
       "      <td>0.00</td>\n",
       "    </tr>\n",
       "    <tr>\n",
       "      <th>ENET_09</th>\n",
       "      <td>17.0</td>\n",
       "      <td>0.000000e+00</td>\n",
       "      <td>0.000000e+00</td>\n",
       "      <td>0.00</td>\n",
       "      <td>0.00</td>\n",
       "      <td>0.00</td>\n",
       "      <td>0.00</td>\n",
       "      <td>0.00</td>\n",
       "    </tr>\n",
       "    <tr>\n",
       "      <th>ENET_10</th>\n",
       "      <td>17.0</td>\n",
       "      <td>0.000000e+00</td>\n",
       "      <td>0.000000e+00</td>\n",
       "      <td>0.00</td>\n",
       "      <td>0.00</td>\n",
       "      <td>0.00</td>\n",
       "      <td>0.00</td>\n",
       "      <td>0.00</td>\n",
       "    </tr>\n",
       "    <tr>\n",
       "      <th>ENET_11</th>\n",
       "      <td>17.0</td>\n",
       "      <td>0.000000e+00</td>\n",
       "      <td>0.000000e+00</td>\n",
       "      <td>0.00</td>\n",
       "      <td>0.00</td>\n",
       "      <td>0.00</td>\n",
       "      <td>0.00</td>\n",
       "      <td>0.00</td>\n",
       "    </tr>\n",
       "    <tr>\n",
       "      <th>ENET_12</th>\n",
       "      <td>17.0</td>\n",
       "      <td>0.000000e+00</td>\n",
       "      <td>0.000000e+00</td>\n",
       "      <td>0.00</td>\n",
       "      <td>0.00</td>\n",
       "      <td>0.00</td>\n",
       "      <td>0.00</td>\n",
       "      <td>0.00</td>\n",
       "    </tr>\n",
       "  </tbody>\n",
       "</table>\n",
       "</div>"
      ],
      "text/plain": [
       "         count          mean           std          min          25%  \\\n",
       "DIST      17.0  4.600000e+01  0.000000e+00        46.00        46.00   \n",
       "POT_NOM   17.0  6.764706e+00  3.509441e+00         5.00         5.00   \n",
       "POT_F01   17.0  0.000000e+00  0.000000e+00         0.00         0.00   \n",
       "POT_F02   17.0  0.000000e+00  0.000000e+00         0.00         0.00   \n",
       "PER_FER   17.0  1.317647e-01  8.240413e-02         0.10         0.10   \n",
       "PER_TOT   17.0  6.088235e-01  1.759575e-01         0.53         0.53   \n",
       "BANC      17.0  0.000000e+00  0.000000e+00         0.00         0.00   \n",
       "CONJ      17.0  1.408453e+04  1.473629e+03     12730.00     12737.00   \n",
       "ENES_01   17.0  1.397955e+07  4.635029e+06  10410053.00  11601402.00   \n",
       "ENES_02   17.0  1.426265e+07  4.650536e+06  10675065.00  11658176.00   \n",
       "ENES_03   17.0  1.375668e+07  4.663535e+06   9629278.00  11777406.00   \n",
       "ENES_04   17.0  1.376934e+07  4.573857e+06   9519481.00  11524840.00   \n",
       "ENES_05   17.0  1.327543e+07  4.293380e+06   8886469.00  11272458.00   \n",
       "ENES_06   17.0  1.263924e+07  4.266424e+06   8563985.00  10644496.00   \n",
       "ENES_07   17.0  1.193864e+07  3.953117e+06   7908330.00  10309996.00   \n",
       "ENES_08   17.0  1.264478e+07  4.088859e+06   8312732.00  10780708.00   \n",
       "ENES_09   17.0  1.284729e+07  4.247485e+06   8856697.00  11136068.00   \n",
       "ENES_10   17.0  1.292396e+07  4.084775e+06   8965352.00  11253190.00   \n",
       "ENES_11   17.0  1.403205e+07  4.332750e+06   9627315.00  12102974.00   \n",
       "ENES_12   17.0  1.317444e+07  4.135390e+06   9212908.00  11545548.00   \n",
       "ENET_01   17.0  0.000000e+00  0.000000e+00         0.00         0.00   \n",
       "ENET_02   17.0  0.000000e+00  0.000000e+00         0.00         0.00   \n",
       "ENET_03   17.0  0.000000e+00  0.000000e+00         0.00         0.00   \n",
       "ENET_04   17.0  0.000000e+00  0.000000e+00         0.00         0.00   \n",
       "ENET_05   17.0  0.000000e+00  0.000000e+00         0.00         0.00   \n",
       "ENET_06   17.0  0.000000e+00  0.000000e+00         0.00         0.00   \n",
       "ENET_07   17.0  0.000000e+00  0.000000e+00         0.00         0.00   \n",
       "ENET_08   17.0  0.000000e+00  0.000000e+00         0.00         0.00   \n",
       "ENET_09   17.0  0.000000e+00  0.000000e+00         0.00         0.00   \n",
       "ENET_10   17.0  0.000000e+00  0.000000e+00         0.00         0.00   \n",
       "ENET_11   17.0  0.000000e+00  0.000000e+00         0.00         0.00   \n",
       "ENET_12   17.0  0.000000e+00  0.000000e+00         0.00         0.00   \n",
       "\n",
       "                 50%          75%          max  \n",
       "DIST           46.00        46.00        46.00  \n",
       "POT_NOM         5.00         5.00        15.00  \n",
       "POT_F01         0.00         0.00         0.00  \n",
       "POT_F02         0.00         0.00         0.00  \n",
       "PER_FER         0.10         0.10         0.35  \n",
       "PER_TOT         0.53         0.53         1.06  \n",
       "BANC            0.00         0.00         0.00  \n",
       "CONJ        12743.00     15601.00     15602.00  \n",
       "ENES_01  12908106.00  13520222.00  25892236.00  \n",
       "ENES_02  13400448.00  13885480.00  26171614.00  \n",
       "ENES_03  12944612.00  13310184.00  25623588.00  \n",
       "ENES_04  12976988.00  13732300.00  25241526.00  \n",
       "ENES_05  12695126.00  13275176.00  23860178.00  \n",
       "ENES_06  12055354.00  12499754.00  23318148.00  \n",
       "ENES_07  11296270.00  11890812.00  21736636.00  \n",
       "ENES_08  12211838.00  12919734.00  22637354.00  \n",
       "ENES_09  11518296.00  12848866.00  23495890.00  \n",
       "ENES_10  12361118.00  12691834.00  23170234.00  \n",
       "ENES_11  13425248.00  13943276.00  24751778.00  \n",
       "ENES_12  12436300.00  13033788.00  23572646.00  \n",
       "ENET_01         0.00         0.00         0.00  \n",
       "ENET_02         0.00         0.00         0.00  \n",
       "ENET_03         0.00         0.00         0.00  \n",
       "ENET_04         0.00         0.00         0.00  \n",
       "ENET_05         0.00         0.00         0.00  \n",
       "ENET_06         0.00         0.00         0.00  \n",
       "ENET_07         0.00         0.00         0.00  \n",
       "ENET_08         0.00         0.00         0.00  \n",
       "ENET_09         0.00         0.00         0.00  \n",
       "ENET_10         0.00         0.00         0.00  \n",
       "ENET_11         0.00         0.00         0.00  \n",
       "ENET_12         0.00         0.00         0.00  "
      ]
     },
     "execution_count": 17,
     "metadata": {},
     "output_type": "execute_result"
    }
   ],
   "source": [
    "untrs.describe().T"
   ]
  },
  {
   "cell_type": "markdown",
   "metadata": {},
   "source": [
    "Podemos ver que muchas variables numéricas de untrs tienen un valor constante igual a 0. Por esto, seleccionamos solo las variables relevantes del dataset:\n"
   ]
  },
  {
   "cell_type": "code",
   "execution_count": 18,
   "metadata": {},
   "outputs": [],
   "source": [
    "ENES = ['ENES_01', 'ENES_02', 'ENES_03', 'ENES_04', 'ENES_05', 'ENES_06',\n",
    "        'ENES_07', 'ENES_08', 'ENES_09', 'ENES_10', 'ENES_11', 'ENES_12']\n",
    "\n",
    "interesting = ['COD_ID'] + ENES"
   ]
  },
  {
   "cell_type": "markdown",
   "metadata": {},
   "source": [
    "Agregamos las dichas variables relevantes de \"untrs\" a \"untrd\":"
   ]
  },
  {
   "cell_type": "code",
   "execution_count": 19,
   "metadata": {},
   "outputs": [],
   "source": [
    "untrs_untrd = untrs[interesting]\n",
    "\n",
    "untrs_untrd = untrs_untrd.rename(columns={'COD_ID':'UNI_TR_S'})\n",
    "\n",
    "untrd = pd.merge(untrd, untrs_untrd, on='UNI_TR_S')"
   ]
  },
  {
   "cell_type": "code",
   "execution_count": 20,
   "metadata": {},
   "outputs": [
    {
     "data": {
      "text/plain": [
       "(10504, 140)"
      ]
     },
     "execution_count": 20,
     "metadata": {},
     "output_type": "execute_result"
    }
   ],
   "source": [
    "untrd.shape"
   ]
  },
  {
   "cell_type": "markdown",
   "metadata": {
    "colab_type": "text",
    "id": "M7DVfIv9kRca"
   },
   "source": [
    "## Generacion de variables en base a puntos de referencia\n",
    "\n",
    "5 - Calcule la distancia euclideana de cada untrd al correspondiente untrs y adicione al dataset.\n",
    "\n",
    "6 - Cree una variable que sea la distancia media a los tres centros urbanos mas cercanos.\n",
    "\n",
    "7 - Usando OSMnx descargue la informacion sobre caminos dentro del area de cobertura de la distribuidora. Cree variables para las distancias a autopistas (trunk), a caminos primarios (primary) y a caminos secundarios (secondary)\n"
   ]
  },
  {
   "cell_type": "markdown",
   "metadata": {},
   "source": [
    "Seteamos la proyección, en metros, de las coordenadas latitud y longitud de los datasets a la correspondiente a la zona de Brasil donde estamos trabajando: epsg=31984"
   ]
  },
  {
   "cell_type": "code",
   "execution_count": 21,
   "metadata": {},
   "outputs": [],
   "source": [
    "untrs = untrs.to_crs(epsg=31984)\n",
    "untrd = untrd.to_crs(epsg=31984)\n",
    "ssmt = ssmt.to_crs(epsg=31984)"
   ]
  },
  {
   "cell_type": "markdown",
   "metadata": {},
   "source": [
    "Calculamos y agregamos la distancia euclidea de cada untrd al untrs correspondiente:"
   ]
  },
  {
   "cell_type": "code",
   "execution_count": 22,
   "metadata": {
    "colab": {},
    "colab_type": "code",
    "id": "0i4vsOVXpl6Q"
   },
   "outputs": [],
   "source": [
    "untrd['dis_trs'] = 0\n",
    "\n",
    "for i,t in untrs.iterrows():\n",
    "    eud = untrd[untrd.UNI_TR_S == t.COD_ID].distance(t.geometry)\n",
    "    untrd.dis_trs.loc[eud.index] = eud"
   ]
  },
  {
   "cell_type": "markdown",
   "metadata": {},
   "source": [
    "Obtenemos las coordenadas en metros de los centros urbanos para el sistema epsg31984:"
   ]
  },
  {
   "cell_type": "code",
   "execution_count": 23,
   "metadata": {},
   "outputs": [],
   "source": [
    "ciudades = MultiPoint([(638957.71642245480325073, 8776046.08499851264059544),\n",
    "                         (650821.94210845185443759, 8767628.10137326270341873),\n",
    "                         (670597.96294799842871726, 8754106.6284990981221199),\n",
    "                         (669124.46910914790350944, 8744450.91004921309649944),\n",
    "                         (662145.30887949012685567, 8726179.5864474680274725),\n",
    "                         (646158.76748905272688717, 8741486.58714986592531204),\n",
    "                         (635785.37086355045903474, 8731085.4541697483509779),\n",
    "                         (626452.08753606036771089, 8742547.50271383672952652),\n",
    "                         (616494.73622976266779006, 8730329.63850652053952217),\n",
    "                         (632762.1082106635440141, 8721162.77330671437084675),\n",
    "                         (632290.59018223150633276 ,8753239.86741738766431808),\n",
    "                         (609186.20678906817920506, 8763398.30729463510215282),\n",
    "                         (650634.72171482886187732, 8754321.58524731732904911)])"
   ]
  },
  {
   "cell_type": "markdown",
   "metadata": {},
   "source": [
    "Agregamos al dataset untrd las distancias al centro urbano más cercano"
   ]
  },
  {
   "cell_type": "code",
   "execution_count": 24,
   "metadata": {},
   "outputs": [
    {
     "data": {
      "text/plain": [
       "<AxesSubplot:>"
      ]
     },
     "execution_count": 24,
     "metadata": {},
     "output_type": "execute_result"
    },
    {
     "data": {
      "image/png": "[encoded data removed]",
      "text/plain": [
       "<Figure size 432x288 with 1 Axes>"
      ]
     },
     "metadata": {
      "needs_background": "light"
     },
     "output_type": "display_data"
    }
   ],
   "source": [
    "untrd['dist_ciudades'] = untrd.distance(ciudades)\n",
    "untrd.dist_ciudades.hist()"
   ]
  },
  {
   "cell_type": "markdown",
   "metadata": {},
   "source": [
    "Calculamos la distancia entre los untrd y los 3 centros urbanos más cercanos"
   ]
  },
  {
   "cell_type": "code",
   "execution_count": 25,
   "metadata": {},
   "outputs": [],
   "source": [
    "from scipy.spatial import cKDTree"
   ]
  },
  {
   "cell_type": "code",
   "execution_count": 26,
   "metadata": {},
   "outputs": [],
   "source": [
    "untrd_loc_array = [x.coords[0] for x in untrd.geometry]\n",
    "ciudades_loc_array = [(638957.71642245480325073, 8776046.08499851264059544),\n",
    "                         (650821.94210845185443759, 8767628.10137326270341873),\n",
    "                         (670597.96294799842871726, 8754106.6284990981221199),\n",
    "                         (669124.46910914790350944, 8744450.91004921309649944),\n",
    "                         (662145.30887949012685567, 8726179.5864474680274725),\n",
    "                         (646158.76748905272688717, 8741486.58714986592531204),\n",
    "                         (635785.37086355045903474, 8731085.4541697483509779),\n",
    "                         (626452.08753606036771089, 8742547.50271383672952652),\n",
    "                         (616494.73622976266779006, 8730329.63850652053952217),\n",
    "                         (632762.1082106635440141, 8721162.77330671437084675),\n",
    "                         (632290.59018223150633276 ,8753239.86741738766431808),\n",
    "                         (609186.20678906817920506, 8763398.30729463510215282),\n",
    "                         (650634.72171482886187732, 8754321.58524731732904911)]"
   ]
  },
  {
   "cell_type": "markdown",
   "metadata": {},
   "source": [
    "Construimos el árbol de nodos y calculamos las distancias"
   ]
  },
  {
   "cell_type": "code",
   "execution_count": 27,
   "metadata": {},
   "outputs": [],
   "source": [
    "trd_tree = cKDTree(ciudades_loc_array)\n",
    "d, i = trd_tree.query(untrd_loc_array, k=3, n_jobs=-1)\n",
    "mean = [dd.mean() for dd in d]\n",
    "untrd['Media_3ciudades'] = mean"
   ]
  },
  {
   "cell_type": "code",
   "execution_count": 28,
   "metadata": {},
   "outputs": [
    {
     "data": {
      "text/plain": [
       "<AxesSubplot:>"
      ]
     },
     "execution_count": 28,
     "metadata": {},
     "output_type": "execute_result"
    },
    {
     "data": {
      "image/png": "[encoded data removed]",
      "text/plain": [
       "<Figure size 432x288 with 1 Axes>"
      ]
     },
     "metadata": {
      "needs_background": "light"
     },
     "output_type": "display_data"
    }
   ],
   "source": [
    "untrd.Media_3ciudades.hist()"
   ]
  },
  {
   "cell_type": "markdown",
   "metadata": {},
   "source": [
    "Podemos ver que la mayoria de los untrd se ubica en promedio a una distancia menor a los ~12km de un centro urbano"
   ]
  },
  {
   "cell_type": "code",
   "execution_count": 29,
   "metadata": {},
   "outputs": [],
   "source": [
    "import osmnx as ox"
   ]
  },
  {
   "cell_type": "markdown",
   "metadata": {},
   "source": [
    "Cargamos el conjunto de polígonos de la zona de trabajo y el mapa de OpenStreetMap con la información correspondiente"
   ]
  },
  {
   "cell_type": "code",
   "execution_count": 30,
   "metadata": {},
   "outputs": [],
   "source": [
    "conj = gpd.read_file(data_path, driver='FileGDB', layer='CONJ')\n",
    "dist = conj.to_crs(epsg=4326).dissolve(by='DIST')\n",
    "G_conj = ox.graph_from_polygon(dist.to_crs(epsg=4326).iloc[0].geometry)\n",
    "nodes, edges = ox.graph_to_gdfs(G_conj)"
   ]
  },
  {
   "cell_type": "code",
   "execution_count": 31,
   "metadata": {},
   "outputs": [],
   "source": [
    "mask = (edges.highway.str.contains('trunk').fillna(False) ) #autopistas\n",
    "mask2 = (edges.highway.str.contains('primary').fillna(False)) #caminos primarios\n",
    "mask3 = (edges.highway.str.contains('secondary').fillna(False)) #caminos secundarios"
   ]
  },
  {
   "cell_type": "markdown",
   "metadata": {},
   "source": [
    "Cálculo de distancia de cada untrd a autopistas"
   ]
  },
  {
   "cell_type": "code",
   "execution_count": 32,
   "metadata": {},
   "outputs": [],
   "source": [
    "main_roads = edges[['geometry','length','name', 'ref']][mask]\n",
    "main_roads['dist'] = 46\n",
    "main_roads_comb = main_roads.dissolve(by='dist')\n",
    "main_roads_comb.to_crs(epsg=31984, inplace= True)\n",
    "untrd['main_r_dist'] = untrd.distance(main_roads_comb.iloc[0].geometry)"
   ]
  },
  {
   "cell_type": "markdown",
   "metadata": {},
   "source": [
    "Cálculo de distancia de cada untrd a caminos primarios"
   ]
  },
  {
   "cell_type": "code",
   "execution_count": 33,
   "metadata": {},
   "outputs": [],
   "source": [
    "sec_roads = edges[['geometry','length','name', 'ref']][mask2]\n",
    "sec_roads['dist'] = 46\n",
    "sec_roads_comb = sec_roads.dissolve(by='dist')\n",
    "sec_roads_comb.to_crs(epsg=31984, inplace= True)\n",
    "untrd['sec_r_dist'] = untrd.distance(sec_roads_comb.iloc[0].geometry)"
   ]
  },
  {
   "cell_type": "markdown",
   "metadata": {},
   "source": [
    "Cálculo de distancia de cada untrd a caminos secundarios"
   ]
  },
  {
   "cell_type": "code",
   "execution_count": 34,
   "metadata": {},
   "outputs": [],
   "source": [
    "ter_roads = edges[['geometry','length','name', 'ref']][mask3]\n",
    "ter_roads['dist'] = 46\n",
    "ter_roads_comb = ter_roads.dissolve(by='dist')\n",
    "ter_roads_comb.to_crs(epsg=31984, inplace= True)\n",
    "untrd['ter_r_dist'] = untrd.distance(ter_roads_comb.iloc[0].geometry)"
   ]
  },
  {
   "cell_type": "code",
   "execution_count": 35,
   "metadata": {},
   "outputs": [
    {
     "data": {
      "text/plain": [
       "(10504, 146)"
      ]
     },
     "execution_count": 35,
     "metadata": {},
     "output_type": "execute_result"
    }
   ],
   "source": [
    "untrd.shape"
   ]
  },
  {
   "cell_type": "code",
   "execution_count": 36,
   "metadata": {},
   "outputs": [
    {
     "data": {
      "text/plain": [
       "<AxesSubplot:ylabel='Frequency'>"
      ]
     },
     "execution_count": 36,
     "metadata": {},
     "output_type": "execute_result"
    },
    {
     "data": {
      "text/plain": [
       "<Figure size 1080x432 with 0 Axes>"
      ]
     },
     "metadata": {},
     "output_type": "display_data"
    },
    {
     "data": {
      "image/png": "[encoded data removed]",
      "text/plain": [
       "<Figure size 432x288 with 1 Axes>"
      ]
     },
     "metadata": {
      "needs_background": "light"
     },
     "output_type": "display_data"
    }
   ],
   "source": [
    "plt.figure(figsize=(15,6))\n",
    "untrd[['main_r_dist','sec_r_dist','ter_r_dist']].plot.hist(alpha=0.5)"
   ]
  },
  {
   "cell_type": "markdown",
   "metadata": {},
   "source": [
    "Podemos ver que la mayoría de los untrd se encuentra a menos de 10 km de una autopista, camino principal o secundario"
   ]
  },
  {
   "cell_type": "markdown",
   "metadata": {
    "colab_type": "text",
    "id": "Y8kY4fHOoZkF"
   },
   "source": [
    "## Generacion de variables con arboles de busqueda\n",
    "\n",
    "8 - Cree variables que indique la cantidad de consumidores en radios de 25, 50 y 100 metros del transformador.\n",
    "\n",
    "9 - Cree una variable indicando la distancia media de cada fila a los 5 untrd mas cercanos.\n",
    "\n",
    "10 - [Opcional] Usando OSMnx descargue los footprints de edificios disponibles, y cree una variable que indique la cantidad de edificios en un radio de 200 metros al transformador."
   ]
  },
  {
   "cell_type": "code",
   "execution_count": 37,
   "metadata": {
    "colab": {},
    "colab_type": "code",
    "id": "0_WPCpDDoB3O"
   },
   "outputs": [],
   "source": [
    "ucbt = ucbt.to_crs(epsg=31984)\n",
    "ucbt_loc_array = [x.coords[0] for x in ucbt.geometry]\n",
    "radio = [25,50,100]\n",
    "tree = cKDTree(ucbt_loc_array)\n",
    "near_consumers = [tree.query_ball_point(untrd_loc_array, rr) for rr in radio]\n",
    "untrd['n_close_con_25'] = [len(c) for c in near_consumers[0]]\n",
    "untrd['n_close_con_50'] = [len(c) for c in near_consumers[1]]\n",
    "untrd['n_close_con_100'] = [len(c) for c in near_consumers[2]]"
   ]
  },
  {
   "cell_type": "code",
   "execution_count": 38,
   "metadata": {},
   "outputs": [
    {
     "data": {
      "text/plain": [
       "<AxesSubplot:ylabel='Frequency'>"
      ]
     },
     "execution_count": 38,
     "metadata": {},
     "output_type": "execute_result"
    },
    {
     "data": {
      "image/png": "[encoded data removed]",
      "text/plain": [
       "<Figure size 432x288 with 1 Axes>"
      ]
     },
     "metadata": {
      "needs_background": "light"
     },
     "output_type": "display_data"
    }
   ],
   "source": [
    "untrd[['n_close_con_25','n_close_con_50','n_close_con_100']].plot.hist(alpha=0.5)"
   ]
  },
  {
   "cell_type": "markdown",
   "metadata": {},
   "source": [
    "La mayoría de los untrd tiene baja cantidad de clientes cercanos aun cuando el radio de búsqueda crece"
   ]
  },
  {
   "cell_type": "markdown",
   "metadata": {},
   "source": [
    "Distancia media a los 5 untrd más cercanos"
   ]
  },
  {
   "cell_type": "code",
   "execution_count": 39,
   "metadata": {},
   "outputs": [],
   "source": [
    "trd_tree = cKDTree(untrd_loc_array)\n",
    "d, i = trd_tree.query(untrd_loc_array, k=6, n_jobs=-1)\n",
    "mean = [dd[1:].mean() for dd in d]\n",
    "untrd['Media_5untrd'] = mean"
   ]
  },
  {
   "cell_type": "code",
   "execution_count": 40,
   "metadata": {},
   "outputs": [
    {
     "data": {
      "text/plain": [
       "<AxesSubplot:>"
      ]
     },
     "execution_count": 40,
     "metadata": {},
     "output_type": "execute_result"
    },
    {
     "data": {
      "image/png": "[encoded data removed]",
      "text/plain": [
       "<Figure size 432x288 with 1 Axes>"
      ]
     },
     "metadata": {
      "needs_background": "light"
     },
     "output_type": "display_data"
    }
   ],
   "source": [
    "untrd['Media_5untrd'].hist()"
   ]
  },
  {
   "cell_type": "markdown",
   "metadata": {},
   "source": [
    "Casi todos los untrd tiene a sus 5 vecinos más cercanos, en promedio, en un radio menor a 1 km"
   ]
  },
  {
   "cell_type": "code",
   "execution_count": 41,
   "metadata": {},
   "outputs": [
    {
     "data": {
      "image/png": "[encoded data removed]",
      "text/plain": [
       "<Figure size 576x576 with 1 Axes>"
      ]
     },
     "metadata": {},
     "output_type": "display_data"
    },
    {
     "data": {
      "text/plain": [
       "(<Figure size 576x576 with 1 Axes>, <AxesSubplot:>)"
      ]
     },
     "execution_count": 41,
     "metadata": {},
     "output_type": "execute_result"
    }
   ],
   "source": [
    "F = ox.footprints.footprints_from_polygon(dist.to_crs(epsg=4326).iloc[0].geometry, footprint_type = 'building')\n",
    "ox.plot_footprints(F)"
   ]
  },
  {
   "cell_type": "code",
   "execution_count": 42,
   "metadata": {},
   "outputs": [
    {
     "name": "stderr",
     "output_type": "stream",
     "text": [
      "/home/andres/.local/lib/python3.8/site-packages/ipykernel/ipkernel.py:287: DeprecationWarning: `should_run_async` will not call `transform_cell` automatically in the future. Please pass the result to `transformed_cell` argument and any exception that happen during thetransform in `preprocessing_exc_tuple` in IPython 7.17 and above.\n",
      "  and should_run_async(code)\n"
     ]
    }
   ],
   "source": [
    "F.to_crs(epsg=31984, inplace= True)\n",
    "untrd['dist_buildings'] = untrd.distance(F.iloc[0].geometry)"
   ]
  },
  {
   "cell_type": "markdown",
   "metadata": {
    "colab_type": "text",
    "id": "u12CHTmpppf7"
   },
   "source": [
    "## Generacion de grafos y calculo de rutas\n",
    "\n",
    "11 - Usando las tecnicas mostradas en el notebook sobre procesamiento de informacion georeferenciada, construya un grafo basado en la capa de linea de distribicion de media tension:\n",
    "  - Utilize los puntos de conexion PCON_1 y PCON_2 como nodos, y los segmentos como edges.\n",
    "  - Adicione COMP y COD_ID como atributos de edge (aristas)\n",
    "  - Asocie cada transformador untrd con un nodo\n",
    "  - Asocie cada punto de conexion los circuitos de media tension (CTMT) con la subestacion, a un nodo.\n",
    "\n",
    "12 - Seleccione al menos 5 metricas de grafo, calcule sus valores para los nodos asociados a cada fila y adicionelos como features al dataset.\n",
    "\n",
    "13 - [Opcional] Cree convinaciones entre las metricas generando variables adicionales.\n",
    "\n",
    "14 - Calcule la distancia de cada untrd a su correspondiente punto de conexion con la subestacion, ponderando por COMP (longitud de segmento), utilize el parametro \"method\" para calcular diferentes tipos de distancias.\n",
    "Adicione los resultados como variables del dataset.\n",
    "\n",
    "15 - Calcule la ruta (secuencia de nodos) hasta la conexion con la subestacion, y en base a esta calcule:\n",
    " - Resistencia electica total de cada conexion\n",
    " - Reactancia electrica de cada conexion.\n",
    " [Opcional]\n",
    " - Modulo y Angulo de la Impedancia.\n",
    " - Corriente Nonimal media a lo largo de la ruta\n",
    " - Corriente Maxima media del conductor a lo largo la ruta"
   ]
  },
  {
   "cell_type": "code",
   "execution_count": 43,
   "metadata": {},
   "outputs": [],
   "source": [
    "import networkx as nx"
   ]
  },
  {
   "cell_type": "markdown",
   "metadata": {},
   "source": [
    "Generamos un grafo basado en la red de distribución, y agregamos la variable \"COD_ID\" de cada segmento como atributo de Edge:"
   ]
  },
  {
   "cell_type": "code",
   "execution_count": 44,
   "metadata": {},
   "outputs": [],
   "source": [
    "SG = nx.Graph()\n",
    "SG.add_weighted_edges_from(ssmt[['PN_CON_1','PN_CON_2','COMP']].values.tolist(), weight='length')\n",
    "\n",
    "ID_attr_dict = {tuple((x[0], x[1])): x[2] for x in ssmt[['PN_CON_1','PN_CON_2','COD_ID']].values}\n",
    "nx.set_edge_attributes(SG, ID_attr_dict, 'SEG_ID')"
   ]
  },
  {
   "cell_type": "markdown",
   "metadata": {},
   "source": [
    "Leemos PONNOT y extraemos las coordenadas de cada punto notable. Luego procedemos a armar el árbol con las coordenadas de PONNOT y buscamos el untrd más cercano a cada par de coordenadas:"
   ]
  },
  {
   "cell_type": "code",
   "execution_count": 45,
   "metadata": {},
   "outputs": [],
   "source": [
    "ponnot = gpd.read_file(data_path, driver='FileGDB', layer='PONNOT')\n",
    "ponnot = ponnot.to_crs(epsg=31984)\n",
    "ponnot_loc_array = [x.coords[0] for x in ponnot.geometry]\n",
    "\n",
    "\n",
    "pn_tree = cKDTree(ponnot_loc_array)\n",
    "pnd, pni = pn_tree.query(untrd_loc_array, n_jobs=-1)\n",
    "untrd['NODE'] = [ponnot.iloc[i].COD_ID for i in pni]"
   ]
  },
  {
   "cell_type": "markdown",
   "metadata": {},
   "source": [
    "Asociamos cada nodo a un punto de conexión de los circuitos de media tensión con la subestación (datos extraídos a mano):"
   ]
  },
  {
   "cell_type": "code",
   "execution_count": 46,
   "metadata": {},
   "outputs": [],
   "source": [
    "ctmt_endpoints = pd.read_csv('data/endpoints_utf.csv')\n",
    "ep_dict = {row.CTMT: str(row.PONNOT) for i,row in ctmt_endpoints.iterrows()}\n",
    "untrd['ENDNODE'] = untrd.CTMT.map(ep_dict)"
   ]
  },
  {
   "cell_type": "code",
   "execution_count": 47,
   "metadata": {},
   "outputs": [
    {
     "data": {
      "text/html": [
       "<div>\n",
       "<style scoped>\n",
       "    .dataframe tbody tr th:only-of-type {\n",
       "        vertical-align: middle;\n",
       "    }\n",
       "\n",
       "    .dataframe tbody tr th {\n",
       "        vertical-align: top;\n",
       "    }\n",
       "\n",
       "    .dataframe thead th {\n",
       "        text-align: right;\n",
       "    }\n",
       "</style>\n",
       "<table border=\"1\" class=\"dataframe\">\n",
       "  <thead>\n",
       "    <tr style=\"text-align: right;\">\n",
       "      <th></th>\n",
       "      <th>COD_ID</th>\n",
       "      <th>DIST</th>\n",
       "      <th>PAC_1</th>\n",
       "      <th>PAC_2</th>\n",
       "      <th>PAC_3</th>\n",
       "      <th>FAS_CON_P</th>\n",
       "      <th>FAS_CON_S</th>\n",
       "      <th>FAS_CON_T</th>\n",
       "      <th>SIT_ATIV</th>\n",
       "      <th>TIP_UNID</th>\n",
       "      <th>...</th>\n",
       "      <th>main_r_dist</th>\n",
       "      <th>sec_r_dist</th>\n",
       "      <th>ter_r_dist</th>\n",
       "      <th>n_close_con_25</th>\n",
       "      <th>n_close_con_50</th>\n",
       "      <th>n_close_con_100</th>\n",
       "      <th>Media_5untrd</th>\n",
       "      <th>dist_buildings</th>\n",
       "      <th>NODE</th>\n",
       "      <th>ENDNODE</th>\n",
       "    </tr>\n",
       "  </thead>\n",
       "  <tbody>\n",
       "  </tbody>\n",
       "</table>\n",
       "<p>0 rows × 153 columns</p>\n",
       "</div>"
      ],
      "text/plain": [
       "Empty GeoDataFrame\n",
       "Columns: [COD_ID, DIST, PAC_1, PAC_2, PAC_3, FAS_CON_P, FAS_CON_S, FAS_CON_T, SIT_ATIV, TIP_UNID, POS, ATRB_PER, TEN_LIN_SE, CAP_ELO, CAP_CHA, TAP, CONF, POSTO, POT_NOM, PER_FER, PER_TOT, DAT_CON, CTMT, UNI_TR_S, SUB, CONJ, MUN, BANC, TIP_TRAFO, MRT, DESCR, ARE_LOC, geometry, ENE_01_media, ENE_02_media, ENE_03_media, ENE_04_media, ENE_05_media, ENE_06_media, ENE_07_media, ENE_08_media, ENE_09_media, ENE_10_media, ENE_11_media, ENE_12_media, FIC_media, ENE_01_std, ENE_02_std, ENE_03_std, ENE_04_std, ENE_05_std, ENE_06_std, ENE_07_std, ENE_08_std, ENE_09_std, ENE_10_std, ENE_11_std, ENE_12_std, FIC_std, ENE_01_qua25, ENE_02_qua25, ENE_03_qua25, ENE_04_qua25, ENE_05_qua25, ENE_06_qua25, ENE_07_qua25, ENE_08_qua25, ENE_09_qua25, ENE_10_qua25, ENE_11_qua25, ENE_12_qua25, FIC_qua25, ENE_01_qua50, ENE_02_qua50, ENE_03_qua50, ENE_04_qua50, ENE_05_qua50, ENE_06_qua50, ENE_07_qua50, ENE_08_qua50, ENE_09_qua50, ENE_10_qua50, ENE_11_qua50, ENE_12_qua50, FIC_qua50, ENE_01_qua75, ENE_02_qua75, ENE_03_qua75, ENE_04_qua75, ENE_05_qua75, ENE_06_qua75, ENE_07_qua75, ENE_08_qua75, ENE_09_qua75, ENE_10_qua75, ENE_11_qua75, ENE_12_qua75, FIC_qua75, ENE_01_min, ENE_02_min, ...]\n",
       "Index: []\n",
       "\n",
       "[0 rows x 153 columns]"
      ]
     },
     "execution_count": 47,
     "metadata": {},
     "output_type": "execute_result"
    }
   ],
   "source": [
    "untrd[untrd.NODE.isna()]"
   ]
  },
  {
   "cell_type": "code",
   "execution_count": 48,
   "metadata": {},
   "outputs": [
    {
     "name": "stderr",
     "output_type": "stream",
     "text": [
      "/home/andres/.local/lib/python3.8/site-packages/ipykernel/ipkernel.py:287: DeprecationWarning: `should_run_async` will not call `transform_cell` automatically in the future. Please pass the result to `transformed_cell` argument and any exception that happen during thetransform in `preprocessing_exc_tuple` in IPython 7.17 and above.\n",
      "  and should_run_async(code)\n"
     ]
    },
    {
     "data": {
      "text/html": [
       "<div>\n",
       "<style scoped>\n",
       "    .dataframe tbody tr th:only-of-type {\n",
       "        vertical-align: middle;\n",
       "    }\n",
       "\n",
       "    .dataframe tbody tr th {\n",
       "        vertical-align: top;\n",
       "    }\n",
       "\n",
       "    .dataframe thead th {\n",
       "        text-align: right;\n",
       "    }\n",
       "</style>\n",
       "<table border=\"1\" class=\"dataframe\">\n",
       "  <thead>\n",
       "    <tr style=\"text-align: right;\">\n",
       "      <th></th>\n",
       "      <th>COD_ID</th>\n",
       "      <th>DIST</th>\n",
       "      <th>PAC_1</th>\n",
       "      <th>PAC_2</th>\n",
       "      <th>PAC_3</th>\n",
       "      <th>FAS_CON_P</th>\n",
       "      <th>FAS_CON_S</th>\n",
       "      <th>FAS_CON_T</th>\n",
       "      <th>SIT_ATIV</th>\n",
       "      <th>TIP_UNID</th>\n",
       "      <th>...</th>\n",
       "      <th>main_r_dist</th>\n",
       "      <th>sec_r_dist</th>\n",
       "      <th>ter_r_dist</th>\n",
       "      <th>n_close_con_25</th>\n",
       "      <th>n_close_con_50</th>\n",
       "      <th>n_close_con_100</th>\n",
       "      <th>Media_5untrd</th>\n",
       "      <th>dist_buildings</th>\n",
       "      <th>NODE</th>\n",
       "      <th>ENDNODE</th>\n",
       "    </tr>\n",
       "  </thead>\n",
       "  <tbody>\n",
       "  </tbody>\n",
       "</table>\n",
       "<p>0 rows × 153 columns</p>\n",
       "</div>"
      ],
      "text/plain": [
       "Empty GeoDataFrame\n",
       "Columns: [COD_ID, DIST, PAC_1, PAC_2, PAC_3, FAS_CON_P, FAS_CON_S, FAS_CON_T, SIT_ATIV, TIP_UNID, POS, ATRB_PER, TEN_LIN_SE, CAP_ELO, CAP_CHA, TAP, CONF, POSTO, POT_NOM, PER_FER, PER_TOT, DAT_CON, CTMT, UNI_TR_S, SUB, CONJ, MUN, BANC, TIP_TRAFO, MRT, DESCR, ARE_LOC, geometry, ENE_01_media, ENE_02_media, ENE_03_media, ENE_04_media, ENE_05_media, ENE_06_media, ENE_07_media, ENE_08_media, ENE_09_media, ENE_10_media, ENE_11_media, ENE_12_media, FIC_media, ENE_01_std, ENE_02_std, ENE_03_std, ENE_04_std, ENE_05_std, ENE_06_std, ENE_07_std, ENE_08_std, ENE_09_std, ENE_10_std, ENE_11_std, ENE_12_std, FIC_std, ENE_01_qua25, ENE_02_qua25, ENE_03_qua25, ENE_04_qua25, ENE_05_qua25, ENE_06_qua25, ENE_07_qua25, ENE_08_qua25, ENE_09_qua25, ENE_10_qua25, ENE_11_qua25, ENE_12_qua25, FIC_qua25, ENE_01_qua50, ENE_02_qua50, ENE_03_qua50, ENE_04_qua50, ENE_05_qua50, ENE_06_qua50, ENE_07_qua50, ENE_08_qua50, ENE_09_qua50, ENE_10_qua50, ENE_11_qua50, ENE_12_qua50, FIC_qua50, ENE_01_qua75, ENE_02_qua75, ENE_03_qua75, ENE_04_qua75, ENE_05_qua75, ENE_06_qua75, ENE_07_qua75, ENE_08_qua75, ENE_09_qua75, ENE_10_qua75, ENE_11_qua75, ENE_12_qua75, FIC_qua75, ENE_01_min, ENE_02_min, ...]\n",
       "Index: []\n",
       "\n",
       "[0 rows x 153 columns]"
      ]
     },
     "execution_count": 48,
     "metadata": {},
     "output_type": "execute_result"
    }
   ],
   "source": [
    "untrd[untrd.ENDNODE.isna()]"
   ]
  },
  {
   "cell_type": "code",
   "execution_count": 49,
   "metadata": {},
   "outputs": [
    {
     "name": "stderr",
     "output_type": "stream",
     "text": [
      "/home/andres/.local/lib/python3.8/site-packages/ipykernel/ipkernel.py:287: DeprecationWarning: `should_run_async` will not call `transform_cell` automatically in the future. Please pass the result to `transformed_cell` argument and any exception that happen during thetransform in `preprocessing_exc_tuple` in IPython 7.17 and above.\n",
      "  and should_run_async(code)\n"
     ]
    },
    {
     "data": {
      "text/plain": [
       "(10504, 153)"
      ]
     },
     "execution_count": 49,
     "metadata": {},
     "output_type": "execute_result"
    }
   ],
   "source": [
    "untrd.shape"
   ]
  },
  {
   "cell_type": "markdown",
   "metadata": {},
   "source": [
    "Calculamos seis (6) métricas del grafo:"
   ]
  },
  {
   "cell_type": "code",
   "execution_count": 50,
   "metadata": {},
   "outputs": [
    {
     "name": "stdout",
     "output_type": "stream",
     "text": [
      "calculando degree\n",
      "calculando neighbor degree\n",
      "calculando closeness centrality\n",
      "calculando pagerank\n",
      "calculando eigenvector centrality\n",
      "calculando clustering\n"
     ]
    }
   ],
   "source": [
    "print('calculando degree')\n",
    "g_degree = SG.degree(untrd.NODE)\n",
    "\n",
    "print('calculando neighbor degree')\n",
    "g_avg_ndeg = nx.average_neighbor_degree(SG)\n",
    "\n",
    "print('calculando closeness centrality')\n",
    "#g_bet_cen = nx.betweenness_centrality(SG)\n",
    "\n",
    "print('calculando pagerank')\n",
    "g_pr = nx.pagerank(SG)\n",
    "\n",
    "print('calculando eigenvector centrality')\n",
    "g_evc = nx.eigenvector_centrality(SG)\n",
    "\n",
    "print('calculando clustering')\n",
    "g_clus = nx.clustering(SG)"
   ]
  },
  {
   "cell_type": "markdown",
   "metadata": {},
   "source": [
    "Adicionamos esta información al gráfico como atributo de los nodos:"
   ]
  },
  {
   "cell_type": "code",
   "execution_count": 51,
   "metadata": {},
   "outputs": [],
   "source": [
    "nx.set_node_attributes(SG, g_degree, 'degree')\n",
    "nx.set_node_attributes(SG, g_avg_ndeg, 'avg_nei_degree')\n",
    "#nx.set_node_attributes(SG, betweenness, 'betweenness')\n",
    "nx.set_node_attributes(SG, g_pr, 'pagerank')\n",
    "nx.set_node_attributes(SG, g_evc, 'eigenvec')\n",
    "nx.set_node_attributes(SG, g_clus, 'clustering')"
   ]
  },
  {
   "cell_type": "markdown",
   "metadata": {},
   "source": [
    "Agregamos los valores al dataframe de transformadores"
   ]
  },
  {
   "cell_type": "code",
   "execution_count": 52,
   "metadata": {},
   "outputs": [],
   "source": [
    "untrd['g_degree'] = untrd.NODE.map(g_degree)\n",
    "untrd['g_avg_ndeg'] = untrd.NODE.map(g_avg_ndeg)\n",
    "#untrd['g_betweenness'] = untrd.NODE.map(g_bet_cen)\n",
    "untrd['g_pagerank'] = untrd.NODE.map(g_pr)\n",
    "untrd['g_eigenvec'] = untrd.NODE.map(g_evc)\n",
    "untrd['g_clustering'] = untrd.NODE.map(g_clus)"
   ]
  },
  {
   "cell_type": "code",
   "execution_count": 53,
   "metadata": {},
   "outputs": [
    {
     "data": {
      "text/plain": [
       "<AxesSubplot:ylabel='Frequency'>"
      ]
     },
     "execution_count": 53,
     "metadata": {},
     "output_type": "execute_result"
    },
    {
     "data": {
      "image/png": "[encoded data removed]",
      "text/plain": [
       "<Figure size 432x288 with 1 Axes>"
      ]
     },
     "metadata": {
      "needs_background": "light"
     },
     "output_type": "display_data"
    }
   ],
   "source": [
    "grafo = untrd[['g_degree','g_avg_ndeg','g_pagerank','g_eigenvec','g_clustering']]\n",
    "grafo.plot.hist(alpha=0.5)"
   ]
  },
  {
   "cell_type": "markdown",
   "metadata": {},
   "source": [
    ":/"
   ]
  },
  {
   "cell_type": "markdown",
   "metadata": {},
   "source": [
    "Calculamos la distancia de cada untrd a su correspondiente untrs:"
   ]
  },
  {
   "cell_type": "code",
   "execution_count": 54,
   "metadata": {},
   "outputs": [],
   "source": [
    "untrd['dist_to_trs'] = [nx.shortest_path_length(SG, trd.NODE, trd.ENDNODE, weight='length') for i, trd in untrd.iterrows()]"
   ]
  },
  {
   "cell_type": "code",
   "execution_count": 55,
   "metadata": {},
   "outputs": [
    {
     "data": {
      "text/plain": [
       "<AxesSubplot:>"
      ]
     },
     "execution_count": 55,
     "metadata": {},
     "output_type": "execute_result"
    },
    {
     "data": {
      "image/png": "[encoded data removed]",
      "text/plain": [
       "<Figure size 432x288 with 1 Axes>"
      ]
     },
     "metadata": {
      "needs_background": "light"
     },
     "output_type": "display_data"
    }
   ],
   "source": [
    "untrd['dist_to_trs'].hist()"
   ]
  },
  {
   "cell_type": "markdown",
   "metadata": {},
   "source": [
    "La distancia, a través de las líneas de trasmisión, de los untrd a sus respectivos untrs muestra una distribución parecida a una Poisson con un pico alrededor de los 17km"
   ]
  },
  {
   "cell_type": "markdown",
   "metadata": {},
   "source": [
    "Obtenemos los nodos que se encuentran en el camino entre cada untrd y su untrs más cercana, utilizando el método de Dijkstra.\n",
    "\n",
    "También obtenemos las aristas entre cada untrd y su untrs más cercana:"
   ]
  },
  {
   "cell_type": "code",
   "execution_count": 56,
   "metadata": {},
   "outputs": [],
   "source": [
    "untrd_node_paths_dijkstra = [nx.shortest_path(SG, trd.NODE, trd.ENDNODE, method = 'dijkstra') for i, trd in untrd.iterrows()]\n",
    "\n",
    "untrd_seg_paths_dijkstra = [[SG.edges[path[i-1:i+1]]['SEG_ID'] for i in range(1,len(path))] for path in untrd_node_paths_dijkstra]"
   ]
  },
  {
   "cell_type": "markdown",
   "metadata": {},
   "source": [
    "Utilizando el método de Bellman-Ford los valores obtenidos son los mismos que con Dijkstra por lo que decidimos descartarlos del dataset."
   ]
  },
  {
   "cell_type": "code",
   "execution_count": 57,
   "metadata": {},
   "outputs": [],
   "source": [
    "#untrd_node_paths_bf = [nx.shortest_path(SG, trd.NODE, trd.ENDNODE, method = 'bellman-ford') for i, trd in untrd.iterrows()]\n",
    "#untrd_seg_paths_bf = [[SG.edges[path[i-1:i+1]]['SEG_ID'] for i in range(1,len(path))] for path in untrd_node_paths_bf]"
   ]
  },
  {
   "cell_type": "markdown",
   "metadata": {},
   "source": [
    "Cargamos la base de datos con la información de cada segmento conductor:"
   ]
  },
  {
   "cell_type": "code",
   "execution_count": 58,
   "metadata": {},
   "outputs": [],
   "source": [
    "cond = gpd.read_file(data_path, driver='FileGDB', layer='SEGCON')\n",
    "cond.set_index('COD_ID', inplace=True)"
   ]
  },
  {
   "cell_type": "markdown",
   "metadata": {},
   "source": [
    "Agregamos a la base de datos de las líneas de transmisión la información sobre la resistencia R y reactancia X de cada segmento:\n"
   ]
  },
  {
   "cell_type": "code",
   "execution_count": 59,
   "metadata": {},
   "outputs": [],
   "source": [
    "segcon.set_index('COD_ID', inplace=True)\n",
    "con = segcon[['R1','X1','CNOM','CMAX']]\n",
    "ssmt = ssmt.join(con, on='TIP_CND', how = 'left')\n",
    "ssmt['R'] = ssmt.R1 * ssmt.COMP / 1000\n",
    "ssmt['X'] = ssmt.X1 * ssmt.COMP / 1000"
   ]
  },
  {
   "cell_type": "code",
   "execution_count": 60,
   "metadata": {},
   "outputs": [],
   "source": [
    "ssmt.set_index('COD_ID', inplace=True)"
   ]
  },
  {
   "cell_type": "code",
   "execution_count": 61,
   "metadata": {},
   "outputs": [],
   "source": [
    "untrd_ele = pd.DataFrame([ssmt[['COMP','R','X','CNOM','CMAX']].loc[r].sum().to_list() for r in untrd_seg_paths_dijkstra], \n",
    "                         index=untrd.index, columns=['COMP','R','X','CNOM','CMAX'])"
   ]
  },
  {
   "cell_type": "code",
   "execution_count": 62,
   "metadata": {},
   "outputs": [],
   "source": [
    "untrd_ele['CNOM'] = untrd_ele['CNOM'] / untrd_ele['COMP']\n",
    "untrd_ele['CMAX'] = untrd_ele['CMAX'] / untrd_ele['COMP']"
   ]
  },
  {
   "cell_type": "code",
   "execution_count": 63,
   "metadata": {},
   "outputs": [],
   "source": [
    "untrd[['COMP','R','X','CNOM','CMAX']] = untrd_ele\n",
    "#untrd[['COMP_bf','R_bf','X_bf','CNOM_bf','CMAX_bf']] = untrd_ele_bf"
   ]
  },
  {
   "cell_type": "code",
   "execution_count": 64,
   "metadata": {},
   "outputs": [
    {
     "data": {
      "text/plain": [
       "<AxesSubplot:>"
      ]
     },
     "execution_count": 64,
     "metadata": {},
     "output_type": "execute_result"
    },
    {
     "data": {
      "image/png": "[encoded data removed]",
      "text/plain": [
       "<Figure size 432x288 with 1 Axes>"
      ]
     },
     "metadata": {
      "needs_background": "light"
     },
     "output_type": "display_data"
    }
   ],
   "source": [
    "untrd['COMP'].hist()"
   ]
  },
  {
   "cell_type": "markdown",
   "metadata": {},
   "source": [
    "La distribución de COMP es la misma que las distancias a los untrs ya que las variables son iguales"
   ]
  },
  {
   "cell_type": "code",
   "execution_count": 65,
   "metadata": {},
   "outputs": [
    {
     "data": {
      "text/plain": [
       "<AxesSubplot:ylabel='Frequency'>"
      ]
     },
     "execution_count": 65,
     "metadata": {},
     "output_type": "execute_result"
    },
    {
     "data": {
      "image/png": "[encoded data removed]",
      "text/plain": [
       "<Figure size 432x288 with 1 Axes>"
      ]
     },
     "metadata": {
      "needs_background": "light"
     },
     "output_type": "display_data"
    }
   ],
   "source": [
    "untrd[['R','X']].plot.hist(alpha=0.5)"
   ]
  },
  {
   "cell_type": "markdown",
   "metadata": {},
   "source": [
    "La reactancia X presenta una distribución más concentrada que la recistencia R alrededor de 10 ohms, R presenta un pico en ~17 ohms"
   ]
  },
  {
   "cell_type": "code",
   "execution_count": 66,
   "metadata": {},
   "outputs": [
    {
     "data": {
      "text/plain": [
       "<AxesSubplot:ylabel='Frequency'>"
      ]
     },
     "execution_count": 66,
     "metadata": {},
     "output_type": "execute_result"
    },
    {
     "data": {
      "image/png": "[encoded data removed]",
      "text/plain": [
       "<Figure size 432x288 with 1 Axes>"
      ]
     },
     "metadata": {
      "needs_background": "light"
     },
     "output_type": "display_data"
    }
   ],
   "source": [
    "untrd[['CNOM','CMAX']].plot.hist(alpha=0.5)"
   ]
  },
  {
   "cell_type": "markdown",
   "metadata": {},
   "source": [
    "Vemos que la distribución de CNOM presenta una concentración de valores menores o iguales a 3A, mientras que la corriente máxima CMAX se ubica alrededor de 4A, por lo cual podemos decir que el sistema es seguro"
   ]
  },
  {
   "cell_type": "code",
   "execution_count": 67,
   "metadata": {},
   "outputs": [],
   "source": [
    "imp = pd.DataFrame({'z_mod' : (untrd_ele.X**2+untrd_ele.R**2).apply(np.sqrt),\n",
    "          'z_ang' : (untrd_ele.X/untrd_ele.R).apply(np.arctan)})"
   ]
  },
  {
   "cell_type": "code",
   "execution_count": 68,
   "metadata": {},
   "outputs": [],
   "source": [
    "untrd[['z_mod','z_ang']] = imp\n",
    "#untrd[['z_mod_bf','z_angbf']] = imp_bf"
   ]
  },
  {
   "cell_type": "code",
   "execution_count": 69,
   "metadata": {},
   "outputs": [
    {
     "data": {
      "text/plain": [
       "array([[<AxesSubplot:title={'center':'z_mod'}>,\n",
       "        <AxesSubplot:title={'center':'z_ang'}>]], dtype=object)"
      ]
     },
     "execution_count": 69,
     "metadata": {},
     "output_type": "execute_result"
    },
    {
     "data": {
      "image/png": "[encoded data removed]",
      "text/plain": [
       "<Figure size 432x288 with 2 Axes>"
      ]
     },
     "metadata": {
      "needs_background": "light"
     },
     "output_type": "display_data"
    }
   ],
   "source": [
    "untrd[['z_mod','z_ang']].hist()"
   ]
  },
  {
   "cell_type": "markdown",
   "metadata": {},
   "source": [
    "Vemos que la distribución del ángulo de la impedancia es alrededor de valores bajos ~0.5°"
   ]
  },
  {
   "cell_type": "code",
   "execution_count": 70,
   "metadata": {},
   "outputs": [
    {
     "data": {
      "text/html": [
       "<div>\n",
       "<style scoped>\n",
       "    .dataframe tbody tr th:only-of-type {\n",
       "        vertical-align: middle;\n",
       "    }\n",
       "\n",
       "    .dataframe tbody tr th {\n",
       "        vertical-align: top;\n",
       "    }\n",
       "\n",
       "    .dataframe thead th {\n",
       "        text-align: right;\n",
       "    }\n",
       "</style>\n",
       "<table border=\"1\" class=\"dataframe\">\n",
       "  <thead>\n",
       "    <tr style=\"text-align: right;\">\n",
       "      <th></th>\n",
       "      <th>COD_ID</th>\n",
       "      <th>DIST</th>\n",
       "      <th>PAC_1</th>\n",
       "      <th>PAC_2</th>\n",
       "      <th>PAC_3</th>\n",
       "      <th>FAS_CON_P</th>\n",
       "      <th>FAS_CON_S</th>\n",
       "      <th>FAS_CON_T</th>\n",
       "      <th>SIT_ATIV</th>\n",
       "      <th>TIP_UNID</th>\n",
       "      <th>...</th>\n",
       "      <th>g_eigenvec</th>\n",
       "      <th>g_clustering</th>\n",
       "      <th>dist_to_trs</th>\n",
       "      <th>COMP</th>\n",
       "      <th>R</th>\n",
       "      <th>X</th>\n",
       "      <th>CNOM</th>\n",
       "      <th>CMAX</th>\n",
       "      <th>z_mod</th>\n",
       "      <th>z_ang</th>\n",
       "    </tr>\n",
       "  </thead>\n",
       "  <tbody>\n",
       "    <tr>\n",
       "      <th>0</th>\n",
       "      <td>4_1040341</td>\n",
       "      <td>46</td>\n",
       "      <td>452971</td>\n",
       "      <td>ET4_1040341</td>\n",
       "      <td>0</td>\n",
       "      <td>ABC</td>\n",
       "      <td>ABCN</td>\n",
       "      <td>0</td>\n",
       "      <td>AT</td>\n",
       "      <td>38</td>\n",
       "      <td>...</td>\n",
       "      <td>5.680527e-06</td>\n",
       "      <td>0.0</td>\n",
       "      <td>8170.23</td>\n",
       "      <td>8170.23</td>\n",
       "      <td>10.595753</td>\n",
       "      <td>3.850102</td>\n",
       "      <td>1.436459</td>\n",
       "      <td>2.052084</td>\n",
       "      <td>11.273564</td>\n",
       "      <td>0.348529</td>\n",
       "    </tr>\n",
       "    <tr>\n",
       "      <th>1</th>\n",
       "      <td>4_1040306</td>\n",
       "      <td>46</td>\n",
       "      <td>452681</td>\n",
       "      <td>ET4_1040306</td>\n",
       "      <td>0</td>\n",
       "      <td>ABC</td>\n",
       "      <td>ABCN</td>\n",
       "      <td>0</td>\n",
       "      <td>AT</td>\n",
       "      <td>38</td>\n",
       "      <td>...</td>\n",
       "      <td>2.625699e-06</td>\n",
       "      <td>0.0</td>\n",
       "      <td>10274.81</td>\n",
       "      <td>10274.81</td>\n",
       "      <td>13.859956</td>\n",
       "      <td>4.858406</td>\n",
       "      <td>1.280666</td>\n",
       "      <td>1.829523</td>\n",
       "      <td>14.686814</td>\n",
       "      <td>0.337152</td>\n",
       "    </tr>\n",
       "    <tr>\n",
       "      <th>2</th>\n",
       "      <td>4_1040035</td>\n",
       "      <td>46</td>\n",
       "      <td>462831</td>\n",
       "      <td>ET4_1040035</td>\n",
       "      <td>ET4_1040035</td>\n",
       "      <td>AB</td>\n",
       "      <td>AN</td>\n",
       "      <td>BN</td>\n",
       "      <td>AT</td>\n",
       "      <td>38</td>\n",
       "      <td>...</td>\n",
       "      <td>4.072908e-07</td>\n",
       "      <td>0.0</td>\n",
       "      <td>15507.34</td>\n",
       "      <td>15507.34</td>\n",
       "      <td>11.510700</td>\n",
       "      <td>6.914966</td>\n",
       "      <td>2.466445</td>\n",
       "      <td>3.523493</td>\n",
       "      <td>13.428066</td>\n",
       "      <td>0.540965</td>\n",
       "    </tr>\n",
       "    <tr>\n",
       "      <th>3</th>\n",
       "      <td>4_1040036</td>\n",
       "      <td>46</td>\n",
       "      <td>465251</td>\n",
       "      <td>ET4_1040036</td>\n",
       "      <td>ET4_1040036</td>\n",
       "      <td>AB</td>\n",
       "      <td>AN</td>\n",
       "      <td>BN</td>\n",
       "      <td>AT</td>\n",
       "      <td>38</td>\n",
       "      <td>...</td>\n",
       "      <td>7.984421e-07</td>\n",
       "      <td>0.0</td>\n",
       "      <td>18841.79</td>\n",
       "      <td>18841.79</td>\n",
       "      <td>10.493560</td>\n",
       "      <td>8.267169</td>\n",
       "      <td>2.344369</td>\n",
       "      <td>3.349098</td>\n",
       "      <td>13.358925</td>\n",
       "      <td>0.667278</td>\n",
       "    </tr>\n",
       "    <tr>\n",
       "      <th>4</th>\n",
       "      <td>4_1040038</td>\n",
       "      <td>46</td>\n",
       "      <td>464061</td>\n",
       "      <td>ET4_1040038</td>\n",
       "      <td>ET4_1040038</td>\n",
       "      <td>AB</td>\n",
       "      <td>AN</td>\n",
       "      <td>BN</td>\n",
       "      <td>AT</td>\n",
       "      <td>38</td>\n",
       "      <td>...</td>\n",
       "      <td>3.746185e-07</td>\n",
       "      <td>0.0</td>\n",
       "      <td>20346.48</td>\n",
       "      <td>20346.48</td>\n",
       "      <td>12.827334</td>\n",
       "      <td>8.988066</td>\n",
       "      <td>2.293335</td>\n",
       "      <td>3.276193</td>\n",
       "      <td>15.662880</td>\n",
       "      <td>0.611193</td>\n",
       "    </tr>\n",
       "  </tbody>\n",
       "</table>\n",
       "<p>5 rows × 166 columns</p>\n",
       "</div>"
      ],
      "text/plain": [
       "      COD_ID  DIST   PAC_1        PAC_2        PAC_3 FAS_CON_P FAS_CON_S  \\\n",
       "0  4_1040341    46  452971  ET4_1040341            0       ABC      ABCN   \n",
       "1  4_1040306    46  452681  ET4_1040306            0       ABC      ABCN   \n",
       "2  4_1040035    46  462831  ET4_1040035  ET4_1040035        AB        AN   \n",
       "3  4_1040036    46  465251  ET4_1040036  ET4_1040036        AB        AN   \n",
       "4  4_1040038    46  464061  ET4_1040038  ET4_1040038        AB        AN   \n",
       "\n",
       "  FAS_CON_T SIT_ATIV TIP_UNID  ...    g_eigenvec  g_clustering  dist_to_trs  \\\n",
       "0         0       AT       38  ...  5.680527e-06           0.0      8170.23   \n",
       "1         0       AT       38  ...  2.625699e-06           0.0     10274.81   \n",
       "2        BN       AT       38  ...  4.072908e-07           0.0     15507.34   \n",
       "3        BN       AT       38  ...  7.984421e-07           0.0     18841.79   \n",
       "4        BN       AT       38  ...  3.746185e-07           0.0     20346.48   \n",
       "\n",
       "       COMP          R         X      CNOM      CMAX      z_mod     z_ang  \n",
       "0   8170.23  10.595753  3.850102  1.436459  2.052084  11.273564  0.348529  \n",
       "1  10274.81  13.859956  4.858406  1.280666  1.829523  14.686814  0.337152  \n",
       "2  15507.34  11.510700  6.914966  2.466445  3.523493  13.428066  0.540965  \n",
       "3  18841.79  10.493560  8.267169  2.344369  3.349098  13.358925  0.667278  \n",
       "4  20346.48  12.827334  8.988066  2.293335  3.276193  15.662880  0.611193  \n",
       "\n",
       "[5 rows x 166 columns]"
      ]
     },
     "execution_count": 70,
     "metadata": {},
     "output_type": "execute_result"
    }
   ],
   "source": [
    "untrd.head()"
   ]
  },
  {
   "cell_type": "code",
   "execution_count": 71,
   "metadata": {},
   "outputs": [
    {
     "name": "stderr",
     "output_type": "stream",
     "text": [
      "/home/andres/.local/lib/python3.8/site-packages/ipykernel/ipkernel.py:287: DeprecationWarning: `should_run_async` will not call `transform_cell` automatically in the future. Please pass the result to `transformed_cell` argument and any exception that happen during thetransform in `preprocessing_exc_tuple` in IPython 7.17 and above.\n",
      "  and should_run_async(code)\n"
     ]
    }
   ],
   "source": [
    "#untrd.to_csv('untrd.csv', index=False)  "
   ]
  }
 ],
 "metadata": {
  "colab": {
   "collapsed_sections": [],
   "name": "2_1_TPractico2_ExploracionCuracion.ipynb",
   "provenance": []
  },
  "kernelspec": {
   "display_name": "Python 3",
   "language": "python",
   "name": "python3"
  },
  "language_info": {
   "codemirror_mode": {
    "name": "ipython",
    "version": 3
   },
   "file_extension": ".py",
   "mimetype": "text/x-python",
   "name": "python",
   "nbconvert_exporter": "python",
   "pygments_lexer": "ipython3",
   "version": "3.8.2"
  }
 },
 "nbformat": 4,
 "nbformat_minor": 4
}
